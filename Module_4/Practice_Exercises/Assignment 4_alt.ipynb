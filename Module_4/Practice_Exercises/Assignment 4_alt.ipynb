{
 "cells": [
  {
   "cell_type": "markdown",
   "id": "868f20a6",
   "metadata": {},
   "source": [
    "#### Assignment 4\n",
    "revised 2/18/2025\n",
    "### Beija Richardson\n",
    "### 4/12/2025"
   ]
  },
  {
   "cell_type": "markdown",
   "id": "6b3cc38d",
   "metadata": {},
   "source": [
    "## Question 1\n",
    "1) import the random library. \n",
    "\n",
    "2) Use `random.seed(10)` to initialize a pseudorandom number generator. \n",
    "\n",
    "3) Create a list of 50 random integers from 0 to 15. Call this list `int_list`.\n",
    "\n",
    "4) Print the 10th and 30th elements of the list. \n",
    "\n",
    "You will need to use list comprehension to do this. The syntax for list comprehension is: <new_list> = `[<expression> for <item> in <iterable>]`. For this question your expression will be a randint generator from the random library and your iterable will be `range()`. Researh the documentation on how to use both functions. "
   ]
  },
  {
   "cell_type": "code",
   "execution_count": 7,
   "id": "7abe6a13",
   "metadata": {},
   "outputs": [
    {
     "name": "stdout",
     "output_type": "stream",
     "text": [
      "10th element: 1\n",
      "30th element: 7\n"
     ]
    }
   ],
   "source": [
    "import random\n",
    "random.seed(10)\n",
    "int_list = [random.randint(0, 15) for _ in range(50)]\n",
    "print(\"10th element:\", int_list[9])\n",
    "print(\"30th element:\", int_list[29])\n"
   ]
  },
  {
   "cell_type": "markdown",
   "id": "48d4d289",
   "metadata": {},
   "source": [
    "## Question 2\n",
    "1) import the string library.\n",
    "\n",
    "2) Create the string `az_upper` using `string.ascii_uppercase`. This is a single string of uppercase letters\n",
    "\n",
    "3) Create a list of each individual letter from the string. To do this you will need to iterate over the string and append each letter to the an empty list. Call this list `az_list`. \n",
    "\n",
    "4) Print the list.\n",
    "\n",
    "You will need to use a for-loop for this. The syntax for this for-loop should be: \n",
    "\n",
    "`for i in string>:\n",
    "   <list operation>\n",
    "`"
   ]
  },
  {
   "cell_type": "code",
   "execution_count": 9,
   "id": "e259b56f",
   "metadata": {},
   "outputs": [
    {
     "name": "stdout",
     "output_type": "stream",
     "text": [
      "['A', 'B', 'C', 'D', 'E', 'F', 'G', 'H', 'I', 'J', 'K', 'L', 'M', 'N', 'O', 'P', 'Q', 'R', 'S', 'T', 'U', 'V', 'W', 'X', 'Y', 'Z']\n"
     ]
    }
   ],
   "source": [
    "import string \n",
    "az_upper = string.ascii_uppercase\n",
    "az_list = []\n",
    "for letter in az_upper:\n",
    "    az_list.append(letter)\n",
    "print(az_list)    \n"
   ]
  },
  {
   "cell_type": "markdown",
   "id": "5b775542",
   "metadata": {},
   "source": [
    "## Question 3\n",
    "1) Create a set from 1 to 5. Call this `set_1`.\n",
    "\n",
    "2) Create a set from int_list. Call this `set_2`.\n",
    "\n",
    "3) Create a set by finding the `symmetric_difference()` of `set_1` and `set_2`. Call this `set_3`.\n",
    "\n",
    "4) What is the length of all three sets?\n",
    "\n"
   ]
  },
  {
   "cell_type": "code",
   "execution_count": 13,
   "id": "4300df51",
   "metadata": {},
   "outputs": [
    {
     "name": "stdout",
     "output_type": "stream",
     "text": [
      "Length of set_1: 5\n",
      "Length of set_2: 15\n",
      "Length of set_3: 12\n"
     ]
    }
   ],
   "source": [
    "set_1 = set(range(1, 6))\n",
    "set_2 = set(int_list)\n",
    "set_3 = set_1.symmetric_difference(set_2)\n",
    "print(\"Length of set_1:\", len(set_1))\n",
    "print(\"Length of set_2:\", len(set_2))\n",
    "print(\"Length of set_3:\", len(set_3))\n",
    "\n"
   ]
  },
  {
   "cell_type": "markdown",
   "id": "7cd5e698",
   "metadata": {},
   "source": [
    "## Question 4\n",
    "\n",
    "Complete exercise 9.15.3 from Think Python by Downey\n",
    "\n",
    "https://allendowney.github.io/ThinkPython/chap09.html\n",
    "\n",
    "\n",
    "\n"
   ]
  },
  {
   "cell_type": "code",
   "execution_count": 19,
   "id": "6c85d4be",
   "metadata": {},
   "outputs": [
    {
     "data": {
      "text/plain": [
       "'torrap'"
      ]
     },
     "execution_count": 19,
     "metadata": {},
     "output_type": "execute_result"
    }
   ],
   "source": [
    "reversed('parrot')\n",
    "list(reversed('parrot'))\n",
    "''.join(reversed('parrot'))"
   ]
  },
  {
   "cell_type": "code",
   "execution_count": 21,
   "id": "4ee365bf-d217-48bf-98d1-7e99224e8901",
   "metadata": {},
   "outputs": [],
   "source": [
    "def reverse_word(word):\n",
    "    return ''.join(reversed(word))\n"
   ]
  },
  {
   "cell_type": "code",
   "execution_count": 35,
   "id": "514ea1b3-8af3-41d2-a583-6784855d7397",
   "metadata": {},
   "outputs": [],
   "source": [
    "def is_palindrome(word):\n",
    "    return word == reverse_word(word)\n",
    "word_list = ['blue','cargo','happy','tree','rollercoaster','cake']\n",
    "for word in word_list:\n",
    "    if len(word) >= 7 and is_palindrome(word):\n",
    "        print(word)"
   ]
  },
  {
   "cell_type": "code",
   "execution_count": 53,
   "id": "cf1e84aa-ecd3-4c02-a772-68d6498db8e5",
   "metadata": {},
   "outputs": [
    {
     "ename": "SyntaxError",
     "evalue": "invalid syntax (1087120262.py, line 7)",
     "output_type": "error",
     "traceback": [
      "\u001b[1;36m  Cell \u001b[1;32mIn[53], line 7\u001b[1;36m\u001b[0m\n\u001b[1;33m    SELECT emp_id, fname, lname\u001b[0m\n\u001b[1;37m           ^\u001b[0m\n\u001b[1;31mSyntaxError\u001b[0m\u001b[1;31m:\u001b[0m invalid syntax\n"
     ]
    }
   ],
   "source": [
    "# 3.1\n",
    "\n",
    "%load_ext sql\n",
    "%sql sqlite:///bank.db\n",
    "\n",
    "%%sql\n",
    "SELECT emp_id, fname, lname\n",
    "FROM employee\n",
    "ORDER BY lname, fname;\n"
   ]
  },
  {
   "cell_type": "code",
   "execution_count": 41,
   "id": "3fb3dc23-fdda-4513-989e-5cc9ec25f501",
   "metadata": {},
   "outputs": [
    {
     "ename": "SyntaxError",
     "evalue": "invalid syntax (3631787130.py, line 2)",
     "output_type": "error",
     "traceback": [
      "\u001b[1;36m  Cell \u001b[1;32mIn[41], line 2\u001b[1;36m\u001b[0m\n\u001b[1;33m    SELECT account_id, cust_id, avail_balance\u001b[0m\n\u001b[1;37m           ^\u001b[0m\n\u001b[1;31mSyntaxError\u001b[0m\u001b[1;31m:\u001b[0m invalid syntax\n"
     ]
    }
   ],
   "source": [
    "# 3.2\n",
    "SELECT account_id, cust_id, avail_balance\n",
    "FROM account\n",
    "WHERE status = 'ACTIVE'\n",
    "  AND avail_balance > 2500;\n"
   ]
  },
  {
   "cell_type": "code",
   "execution_count": null,
   "id": "2979e5d7-2807-4a9c-8085-d24449f47e34",
   "metadata": {},
   "outputs": [],
   "source": [
    "# 3.3\n",
    "SELECT DISTINCT open_emp_id\n",
    "FROM account;\n"
   ]
  },
  {
   "cell_type": "code",
   "execution_count": null,
   "id": "b6b488f4-aada-4483-8081-e28ce3e55bdd",
   "metadata": {},
   "outputs": [],
   "source": [
    "# 3.4\n",
    "SELECT p.product_cd, a.cust_id, a.avail_balance\n",
    "FROM product p\n",
    "         INNER JOIN account a\n",
    "                    ON p.product_cd = a.product_cd\n",
    "WHERE p.product_type_cd = 'ACCOUNT';"
   ]
  }
 ],
 "metadata": {
  "kernelspec": {
   "display_name": "Python [conda env:base]",
   "language": "python",
   "name": "conda-base-py"
  },
  "language_info": {
   "codemirror_mode": {
    "name": "ipython",
    "version": 3
   },
   "file_extension": ".py",
   "mimetype": "text/x-python",
   "name": "python",
   "nbconvert_exporter": "python",
   "pygments_lexer": "ipython3",
   "version": "3.12.7"
  }
 },
 "nbformat": 4,
 "nbformat_minor": 5
}
