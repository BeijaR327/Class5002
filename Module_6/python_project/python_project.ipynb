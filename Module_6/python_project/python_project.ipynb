{
 "cells": [
  {
   "cell_type": "markdown",
   "id": "d8c1c1e1-ccdd-4457-ae55-956e2cef22a4",
   "metadata": {},
   "source": [
    "# Beija Richardson 5/8/2025"
   ]
  },
  {
   "cell_type": "markdown",
   "id": "aae4e2d2",
   "metadata": {},
   "source": [
    "## Step 1: Connect to Bank Database"
   ]
  },
  {
   "cell_type": "code",
   "execution_count": 1,
   "id": "cddb55ec-bf9d-4ce1-baaf-88e01bf8e4db",
   "metadata": {},
   "outputs": [],
   "source": [
    "def get_credentials(vault_filename):\n",
    "    try:\n",
    "        with open(vault_filename, 'r') as file:\n",
    "            lines = [line.strip() for line in file.readlines()]\n",
    "\n",
    "            if len(lines) != 2:\n",
    "                raise ValueError(\"Vault file must contain exactly two lines (username, password).\")\n",
    "\n",
    "            username, password = lines\n",
    "            return username, password\n",
    "\n",
    "    except FileNotFoundError:\n",
    "        print(f\"❌ Error: Vault file '{vault_filename}' not found.\")\n",
    "        return None, None\n",
    "    except ValueError as ve:\n",
    "        print(f\"❌ Error: {ve}\")\n",
    "        return None, None"
   ]
  },
  {
   "cell_type": "code",
   "execution_count": 3,
   "id": "fece9a8a-d257-4d55-a0fa-41c3bbb2816d",
   "metadata": {},
   "outputs": [
    {
     "name": "stdout",
     "output_type": "stream",
     "text": [
      "Username: Pat, Password: datasciencerules\n"
     ]
    }
   ],
   "source": [
    "username, password = get_credentials('./vault.txt')\n",
    "print(f\"Username: {username}, Password: {password}\")"
   ]
  },
  {
   "cell_type": "code",
   "execution_count": 5,
   "id": "7c53ce97-412d-49e8-abf3-4e05609862a8",
   "metadata": {},
   "outputs": [
    {
     "name": "stdout",
     "output_type": "stream",
     "text": [
      "✅ Connection established with the bank database!\n"
     ]
    }
   ],
   "source": [
    "import psycopg2\n",
    "connection = psycopg2.connect(\n",
    "    dbname=\"bank\",\n",
    "    user=\"pat\",\n",
    "    password=\"datasciencerules\",\n",
    "    host=\"localhost\",\n",
    "    port=\"5432\"\n",
    ")\n",
    "\n",
    "if connection:\n",
    "    print(\"✅ Connection established with the bank database!\")\n",
    "    connection.close()\n",
    "else:\n",
    "    print(\"❌ Failed to connect.\")"
   ]
  },
  {
   "cell_type": "markdown",
   "id": "34268939",
   "metadata": {},
   "source": [
    "## Step 2: Retrieve Transactions for a Valid Month"
   ]
  },
  {
   "cell_type": "code",
   "execution_count": 21,
   "id": "ce054b42",
   "metadata": {},
   "outputs": [
    {
     "name": "stdout",
     "output_type": "stream",
     "text": [
      "❌ Error: connection already closed\n",
      "   transaction_id  amount transaction_date\n",
      "0              -1      -1             None\n"
     ]
    },
    {
     "name": "stderr",
     "output_type": "stream",
     "text": [
      "C:\\Users\\Luke\\Documents\\Class5002\\Module_6\\python_project\\db_queries.py:23: UserWarning: pandas only supports SQLAlchemy connectable (engine/connection) or database string URI or sqlite3 DBAPI2 connection. Other DBAPI2 objects are not tested. Please consider using SQLAlchemy.\n",
      "  df = pd.read_sql_query(query, connection)\n"
     ]
    }
   ],
   "source": [
    "from db_queries import get_transactions_for_month\n",
    "df_valid = get_transactions_for_month(connection, 2023, 5)\n",
    "print(df_valid)"
   ]
  },
  {
   "cell_type": "markdown",
   "id": "af534da6",
   "metadata": {},
   "source": [
    "## Step 3: Retrieve Transactions for an Invalid Month"
   ]
  },
  {
   "cell_type": "code",
   "execution_count": 15,
   "id": "a022f982",
   "metadata": {},
   "outputs": [
    {
     "name": "stdout",
     "output_type": "stream",
     "text": [
      "❌ Error: connection already closed\n",
      "   transaction_id  amount transaction_date\n",
      "0              -1      -1             None\n"
     ]
    },
    {
     "name": "stderr",
     "output_type": "stream",
     "text": [
      "C:\\Users\\Luke\\Documents\\Class5002\\Module_6\\python_project\\db_queries.py:23: UserWarning: pandas only supports SQLAlchemy connectable (engine/connection) or database string URI or sqlite3 DBAPI2 connection. Other DBAPI2 objects are not tested. Please consider using SQLAlchemy.\n",
      "  df = pd.read_sql_query(query, connection)\n"
     ]
    }
   ],
   "source": [
    "df_invalid = get_transactions_for_month(connection, 1900, 99)\n",
    "print(df_invalid)"
   ]
  },
  {
   "cell_type": "markdown",
   "id": "a734e759",
   "metadata": {},
   "source": [
    "## Step 4: Use DatabaseManager Class for Analysis"
   ]
  },
  {
   "cell_type": "code",
   "execution_count": 19,
   "id": "ba55eb4b",
   "metadata": {},
   "outputs": [
    {
     "name": "stdout",
     "output_type": "stream",
     "text": [
      "❌ Error connecting to the database: connection to server at \"localhost\" (::1), port 5432 failed: FATAL:  password authentication failed for user \"Pat\"\n",
      "\n",
      "❌ Error: 'NoneType' object has no attribute 'cursor'\n",
      "   transaction_id  amount transaction_date\n",
      "0              -1      -1             None\n",
      "❌ Error: 'NoneType' object has no attribute 'cursor'\n",
      "No valid data available to plot.\n"
     ]
    }
   ],
   "source": [
    "\n",
    "from db_manager import DatabaseManager\n",
    "dbm = DatabaseManager(\"vault.txt\")\n",
    "print(dbm.fetch_transactions(2023, 5))\n",
    "dbm.plot_transactions_by_day(2023, 5)\n"
   ]
  },
  {
   "cell_type": "code",
   "execution_count": null,
   "id": "ea83b58e-5795-4454-a764-020da68d6330",
   "metadata": {},
   "outputs": [],
   "source": []
  }
 ],
 "metadata": {
  "kernelspec": {
   "display_name": "Python [conda env:base]",
   "language": "python",
   "name": "conda-base-py"
  },
  "language_info": {
   "codemirror_mode": {
    "name": "ipython",
    "version": 3
   },
   "file_extension": ".py",
   "mimetype": "text/x-python",
   "name": "python",
   "nbconvert_exporter": "python",
   "pygments_lexer": "ipython3",
   "version": "3.12.7"
  }
 },
 "nbformat": 4,
 "nbformat_minor": 5
}
