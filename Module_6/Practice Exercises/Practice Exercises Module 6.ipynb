{
 "cells": [
  {
   "cell_type": "markdown",
   "id": "daab04f3-a235-4d6a-b5e3-0ca2ee7ae98d",
   "metadata": {},
   "source": [
    "# Practice Exercises Module 6\n",
    "## Beija Richardson 4/26/2025\n"
   ]
  },
  {
   "cell_type": "markdown",
   "id": "8431d67f-2305-4406-9ad6-6bc9b2a4b610",
   "metadata": {},
   "source": [
    "### 14.11.4"
   ]
  },
  {
   "cell_type": "code",
   "execution_count": 5,
   "id": "a82e631b-1f58-438f-abb5-a365b2b0425c",
   "metadata": {},
   "outputs": [
    {
     "name": "stdout",
     "output_type": "stream",
     "text": [
      "True\n"
     ]
    }
   ],
   "source": [
    "class Date :\n",
    "    \"Represents a year, month, and day\"\n",
    "    def __init__(self,year, month, day):\n",
    "        self.year= year\n",
    "        self.month= month\n",
    "        self.day= day\n",
    "#reminder space after def __ init\n",
    "\n",
    "def make_date(year,month,day):\n",
    "    return Date(year, month, day)\n",
    "\n",
    "my_date=make_date(1933,6,22)\n",
    "\n",
    "def print_date(date):\n",
    "    print(f\"{date.year:04d}-{date.month:02d}-{date.day:02d}\")\n",
    "    print_date(my_date)\n",
    "    \n",
    "def is_after(date1, date2):\n",
    "    if date1.year > date2.year:\n",
    "        return True\n",
    "    elif date1.year < date2.year:\n",
    "        return False\n",
    "    if date1.month > date2.month:\n",
    "        return True\n",
    "    elif date1.month < date2.month:\n",
    "        return False\n",
    "    if date1.day > date2.day:\n",
    "        return True\n",
    "    else:\n",
    "        return False \n",
    "    \n",
    "date1 = make_date(1933, 6, 22)\n",
    "date2 = make_date(1933, 9, 17)\n",
    "\n",
    "print(is_after(date2, date1))"
   ]
  },
  {
   "cell_type": "markdown",
   "id": "768c0759-4f4b-403f-bb6e-7375ce50def9",
   "metadata": {},
   "source": [
    "### 15.10.2"
   ]
  },
  {
   "cell_type": "code",
   "execution_count": null,
   "id": "7c788c6e-e15f-4c4b-80f4-99d706089477",
   "metadata": {},
   "outputs": [],
   "source": [
    "class Date:\n",
    "    def __init__(self, year, month, day):\n",
    "        self.year = year\n",
    "        self.month = month\n",
    "        self.day = day     \n",
    "        \n",
    "    def __str__(self):\n",
    "        return f\"{self.year:04d}-{self.month:02d}-{self.day:02d}\"\n",
    "    \n",
    "    def is_after(self, other):\n",
    "        if self.year > other.year:\n",
    "            return True\n",
    "        elif self.year < other.year:\n",
    "            return False\n",
    "        if self.month > other.month:\n",
    "            return True\n",
    "        elif self.month < other.month:\n",
    "            return False\n",
    "        if self.day > other.day:\n",
    "            return True\n",
    "        else:\n",
    "            return False\n",
    "        \n",
    "date1 = Date(1933, 6, 22)  \n",
    "date2 = Date(1933, 9, 17) \n",
    "\n",
    "print(date2.is_after(date1))"
   ]
  }
 ],
 "metadata": {
  "kernelspec": {
   "display_name": "Python [conda env:base]",
   "language": "python",
   "name": "conda-base-py"
  },
  "language_info": {
   "codemirror_mode": {
    "name": "ipython",
    "version": 3
   },
   "file_extension": ".py",
   "mimetype": "text/x-python",
   "name": "python",
   "nbconvert_exporter": "python",
   "pygments_lexer": "ipython3",
   "version": "3.12.7"
  }
 },
 "nbformat": 4,
 "nbformat_minor": 5
}
