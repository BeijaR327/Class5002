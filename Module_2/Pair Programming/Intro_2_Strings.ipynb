{
 "cells": [
  {
   "cell_type": "markdown",
   "id": "d34c4ee3-4342-4f00-b79c-09abaec9ff1a",
   "metadata": {},
   "source": [
    "# Strings in Python\n",
    "\n",
    "PairProgramming Exercise,  DSE5002\n",
    "\n",
    "Beija Richardson March 30 2025,\n",
    "\n",
    "String variables in Pythons are arrays, we can access the letters in them by index\n",
    "\n",
    "We will import the re package, that allows us to carry out string manipulation using regular expression (regex), that we will see more about later\n",
    "\n",
    "Helpful source\n",
    "\n",
    "https://www.w3schools.com/python/python_ref_string.asp"
   ]
  },
  {
   "cell_type": "code",
   "execution_count": 6,
   "id": "ef4b27dd-0961-4b86-b333-5607e8a18528",
   "metadata": {},
   "outputs": [],
   "source": [
    "import re"
   ]
  },
  {
   "cell_type": "code",
   "execution_count": 7,
   "id": "5a5bd524-ed88-4119-a063-ef3d6106d2f1",
   "metadata": {},
   "outputs": [],
   "source": [
    "my_string=\"String variables in Python are used to store sequences of characters.\""
   ]
  },
  {
   "cell_type": "code",
   "execution_count": 8,
   "id": "9ea1f19b-f643-46f9-9de6-2caf4dc663e4",
   "metadata": {},
   "outputs": [
    {
     "data": {
      "text/plain": [
       "'variable'"
      ]
     },
     "execution_count": 8,
     "metadata": {},
     "output_type": "execute_result"
    }
   ],
   "source": [
    "# accessing a region of the string\n",
    "\n",
    "my_string[7:15]"
   ]
  },
  {
   "cell_type": "markdown",
   "id": "9ae4d003-a780-443a-889d-77c72b93333c",
   "metadata": {},
   "source": [
    "# *Question/Action*\n",
    "\n",
    "access the word store in my_string"
   ]
  },
  {
   "cell_type": "code",
   "execution_count": 10,
   "id": "2c822984-d313-4c43-8b1f-5c78120c3c51",
   "metadata": {},
   "outputs": [
    {
     "data": {
      "text/plain": [
       "['S',\n",
       " 't',\n",
       " 'r',\n",
       " 'i',\n",
       " 'n',\n",
       " 'g',\n",
       " ' ',\n",
       " 'v',\n",
       " 'a',\n",
       " 'r',\n",
       " 'i',\n",
       " 'a',\n",
       " 'b',\n",
       " 'l',\n",
       " 'e',\n",
       " 's',\n",
       " ' ',\n",
       " 'i',\n",
       " 'n',\n",
       " ' ',\n",
       " 'P',\n",
       " 'y',\n",
       " 't',\n",
       " 'h',\n",
       " 'o',\n",
       " 'n',\n",
       " ' ',\n",
       " 'a',\n",
       " 'r',\n",
       " 'e',\n",
       " ' ',\n",
       " 'u',\n",
       " 's',\n",
       " 'e',\n",
       " 'd',\n",
       " ' ',\n",
       " 't',\n",
       " 'o',\n",
       " ' ',\n",
       " 's',\n",
       " 't',\n",
       " 'o',\n",
       " 'r',\n",
       " 'e',\n",
       " ' ',\n",
       " 's',\n",
       " 'e',\n",
       " 'q',\n",
       " 'u',\n",
       " 'e',\n",
       " 'n',\n",
       " 'c',\n",
       " 'e',\n",
       " 's',\n",
       " ' ',\n",
       " 'o',\n",
       " 'f',\n",
       " ' ',\n",
       " 'c',\n",
       " 'h',\n",
       " 'a',\n",
       " 'r',\n",
       " 'a',\n",
       " 'c',\n",
       " 't',\n",
       " 'e',\n",
       " 'r',\n",
       " 's',\n",
       " '.']"
      ]
     },
     "execution_count": 10,
     "metadata": {},
     "output_type": "execute_result"
    }
   ],
   "source": [
    "list(my_string)"
   ]
  },
  {
   "cell_type": "markdown",
   "id": "e87456aa-e22e-41fa-b04a-c8d73560105f",
   "metadata": {},
   "source": [
    "## comparing strings\n",
    "\n",
    "can be done with standard operations"
   ]
  },
  {
   "cell_type": "code",
   "execution_count": null,
   "id": "0e654953-4ac6-481f-b061-8f504c46afd2",
   "metadata": {
    "scrolled": true
   },
   "outputs": [],
   "source": [
    "\"alpha\"==\"beta\""
   ]
  },
  {
   "cell_type": "code",
   "execution_count": null,
   "id": "775288d8-8d48-433c-9818-d50e74dafef9",
   "metadata": {
    "scrolled": true
   },
   "outputs": [],
   "source": [
    "\"alpha\"<\"beta\""
   ]
  },
  {
   "cell_type": "code",
   "execution_count": null,
   "id": "31c5cd03-31e4-4cc8-bfaa-14da94e95f26",
   "metadata": {},
   "outputs": [],
   "source": [
    "#string methods\n",
    "\n",
    "These are a number of standardized ways of modifying strings"
   ]
  },
  {
   "cell_type": "code",
   "execution_count": null,
   "id": "c53430b3-b1de-409f-bcad-6d4f87ac3f35",
   "metadata": {},
   "outputs": [],
   "source": [
    "myword=\"Python rocks!\"\n",
    "\n",
    "print(myword.lower())\n",
    "print(myword.upper())\n",
    "print(myword.title())"
   ]
  },
  {
   "cell_type": "markdown",
   "id": "d078435a-e4e0-4bdb-8d86-9ef5ff09e6c8",
   "metadata": {},
   "source": [
    "## find, replace, strip, split and index\n",
    "\n",
    "These are basic operations on strings.   The built-in string functions in Python are very limited,they act like the find/relace\n",
    "commands in Word or Excel, rather than using the more sophisticated regular expression patterns we will be discussing\n",
    "shortly\n",
    "\n"
   ]
  },
  {
   "cell_type": "code",
   "execution_count": null,
   "id": "da73d8e8-8484-4c79-b20c-595f3aebf731",
   "metadata": {},
   "outputs": [],
   "source": [
    "# find returns the index location where the pattern string is found\n",
    "\n",
    "myword.find(\"rock\")"
   ]
  },
  {
   "cell_type": "code",
   "execution_count": null,
   "id": "39c42982-0dec-46f9-849d-1d358f4afa04",
   "metadata": {},
   "outputs": [],
   "source": [
    "# find will return a -1 if the word is not in the string\n",
    "\n",
    "myword.find(\"chill\")"
   ]
  },
  {
   "cell_type": "code",
   "execution_count": null,
   "id": "ff2e2179-8ab3-4832-9d18-3f921ea51aef",
   "metadata": {},
   "outputs": [],
   "source": [
    "#replace replaces a target word with another word"
   ]
  },
  {
   "cell_type": "code",
   "execution_count": null,
   "id": "b6bb63d2-3eeb-4c07-8f3b-c9d32f8b7061",
   "metadata": {},
   "outputs": [],
   "source": [
    "myword.replace('Python',\"C\")"
   ]
  },
  {
   "cell_type": "code",
   "execution_count": null,
   "id": "cfdcc609-8862-4fd7-867a-79070d933d3d",
   "metadata": {},
   "outputs": [],
   "source": [
    "myword.replace('Rust',\"C\")"
   ]
  },
  {
   "cell_type": "markdown",
   "id": "3989dafb-779a-46ae-864e-4ad79d6c8170",
   "metadata": {},
   "source": [
    "# Strip\n",
    "\n",
    "Strip removes excess leading or trailing white space\n",
    "\n",
    "Handy for cleaning up a string"
   ]
  },
  {
   "cell_type": "code",
   "execution_count": null,
   "id": "d5bddfaa-c69a-4121-b9bd-6e4f9a8a9b4e",
   "metadata": {},
   "outputs": [],
   "source": [
    "yourword=\" Once upon a regex manual \"\n",
    "\n",
    "yourword.strip()"
   ]
  },
  {
   "cell_type": "code",
   "execution_count": null,
   "id": "b13c6075-3fe2-4fcf-9c9b-2418ee943f0e",
   "metadata": {},
   "outputs": [],
   "source": [
    "#split\n",
    "\n",
    "This splits a string into pieces based on a delimited, the delimiter is removed"
   ]
  },
  {
   "cell_type": "code",
   "execution_count": null,
   "id": "df552da2-c60c-41c6-bbb7-4d62f3e4c773",
   "metadata": {},
   "outputs": [],
   "source": [
    "theirstring=\"Alpha, Beta, Gamma\"\n",
    "\n",
    "theirstring.split(\",\")"
   ]
  },
  {
   "cell_type": "code",
   "execution_count": null,
   "id": "aa1ffc1b-5473-4bd7-bfba-6971b044e747",
   "metadata": {},
   "outputs": [],
   "source": [
    "theirstring.split(\" \")"
   ]
  },
  {
   "cell_type": "code",
   "execution_count": null,
   "id": "1e4d6118-b9ba-49d7-bd92-f361f9a95d2e",
   "metadata": {},
   "outputs": [],
   "source": [
    "#index,  it's not clear to me how index differs from find\n",
    "\n",
    "myword.index(\"roc\")\n"
   ]
  },
  {
   "cell_type": "markdown",
   "id": "1dd3b9ac-2ea1-41f4-bfa2-fe1922563705",
   "metadata": {},
   "source": [
    "# Regular Expressions,  or Regex\n",
    "\n",
    "In regex, we create a search pattern that is used in\n",
    "\n",
    "-find\n",
    "\n",
    "-replace\n",
    "\n",
    "-string splitting"
   ]
  },
  {
   "cell_type": "code",
   "execution_count": null,
   "id": "a954eacc-2d44-442d-8d9f-304fa75a1421",
   "metadata": {},
   "outputs": [],
   "source": [
    "import re\n",
    "\n",
    "#re is a python package for searching with regex\n",
    "\n",
    "my_string=\"Hey, where are the anchovies?\"\n",
    "\n",
    "pattern=\"are\"\n",
    "\n",
    "re.search(pattern,my_string)"
   ]
  },
  {
   "cell_type": "markdown",
   "id": "5ad8ec99-9070-442f-ac08-fff134f986f0",
   "metadata": {},
   "source": [
    "This means that the pattern \"are\" can be found from the location 27 to 30 in my_string\n",
    "\n",
    "If the pattern is not in the string, we get a -1"
   ]
  },
  {
   "cell_type": "code",
   "execution_count": null,
   "id": "3aee0acf-79b8-4343-92b0-59bf7dd34722",
   "metadata": {},
   "outputs": [],
   "source": [
    "pattern=\"arc\"\n",
    "\n",
    "re.search(pattern,my_string)"
   ]
  },
  {
   "cell_type": "markdown",
   "id": "3037974a-715a-449a-810b-bf85bb4500ce",
   "metadata": {},
   "source": [
    "Wildcards\n",
    "\n",
    ".- this is a wildcard for a single character\n",
    "* -this is a wildcard for any number of characters"
   ]
  },
  {
   "cell_type": "code",
   "execution_count": null,
   "id": "b5d626b0-a81c-4c58-bd05-d119c6435db6",
   "metadata": {},
   "outputs": [],
   "source": [
    "pattern=\"anc.ovies\"\n",
    "\n",
    "res=re.search(pattern,my_string)\n",
    "\n",
    "print(res)\n",
    "\n",
    "print(res.span())"
   ]
  },
  {
   "cell_type": "markdown",
   "id": "2ec8546f-77dc-4d19-96fe-31b26244571a",
   "metadata": {},
   "source": [
    "# Splitting"
   ]
  },
  {
   "cell_type": "code",
   "execution_count": null,
   "id": "444b84f7-c3b1-4380-967a-d0a93b498cd6",
   "metadata": {},
   "outputs": [],
   "source": [
    "pattern=\" \"\n",
    "re.split(pattern,my_string)"
   ]
  },
  {
   "cell_type": "code",
   "execution_count": null,
   "id": "c4079f63-62f6-4603-aa5d-7ca5988087ff",
   "metadata": {},
   "outputs": [],
   "source": [
    "# replacement\n",
    "\n",
    "pattern=\"Hey\"\n",
    "newpattern=\"Wow\"\n",
    "\n",
    "re.sub(pattern, newpattern, my_string)"
   ]
  },
  {
   "cell_type": "code",
   "execution_count": null,
   "id": "7b23396b-7930-4cac-ae74-13d3667bed5b",
   "metadata": {},
   "outputs": [],
   "source": []
  }
 ],
 "metadata": {
  "kernelspec": {
   "display_name": "Python [conda env:Class5002]",
   "language": "python",
   "name": "conda-env-Class5002-py"
  },
  "language_info": {
   "codemirror_mode": {
    "name": "ipython",
    "version": 3
   },
   "file_extension": ".py",
   "mimetype": "text/x-python",
   "name": "python",
   "nbconvert_exporter": "python",
   "pygments_lexer": "ipython3",
   "version": "3.12.9"
  }
 },
 "nbformat": 4,
 "nbformat_minor": 5
}
