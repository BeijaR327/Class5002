{
 "cells": [
  {
   "cell_type": "markdown",
   "id": "d1fb4c5b-da56-4b1d-9912-46feee8bb89a",
   "metadata": {},
   "source": [
    "# Practice Exercises Module 5\n",
    "## Beija Richardson 4/18/2025\n",
    "\n",
    "## From Think Python,   Chapter 10,  \n",
    "\n",
    "10.11.2"
   ]
  },
  {
   "cell_type": "markdown",
   "id": "5250d5a2-ce6b-4394-b657-a2a9843c1c0f",
   "metadata": {},
   "source": [
    "Use get to write a more concise version of value_counts. You should be able to eliminate the if statement."
   ]
  },
  {
   "cell_type": "code",
   "execution_count": 60,
   "id": "04bbde29-63e3-41ec-a77b-1f85055c95ee",
   "metadata": {},
   "outputs": [],
   "source": [
    "fruits = ['apple', 'pear', 'banana', 'orange', 'melon', 'pineapple', 'apple', 'banana']"
   ]
  },
  {
   "cell_type": "code",
   "execution_count": 62,
   "id": "187d1ec9-5d7e-4e08-8c35-c30a71143421",
   "metadata": {},
   "outputs": [],
   "source": [
    "def value_counts(lst):\n",
    "    counts = {}\n",
    "    for item in lst:\n",
    "        counts[item] = counts.get(item, 0) + 1\n",
    "    return counts"
   ]
  },
  {
   "cell_type": "code",
   "execution_count": 64,
   "id": "f0036566-2e59-4ce1-addc-f0b9ae29981c",
   "metadata": {},
   "outputs": [
    {
     "name": "stdout",
     "output_type": "stream",
     "text": [
      "{'apple': 2, 'pear': 1, 'banana': 2, 'orange': 1, 'melon': 1, 'pineapple': 1}\n"
     ]
    }
   ],
   "source": [
    "dictionary_ex1 = value_counts(fruits)\n",
    "print(dictionary_ex1)"
   ]
  },
  {
   "cell_type": "markdown",
   "id": "761a4432-99a9-42f5-84a3-3b3985073989",
   "metadata": {},
   "source": [
    "10.11.4"
   ]
  },
  {
   "cell_type": "code",
   "execution_count": 67,
   "id": "38363228-7faa-44d2-8b03-7be3f12ea4ff",
   "metadata": {},
   "outputs": [],
   "source": [
    "def find_repeats(counter):\n",
    "    \"\"\"Makes a list of keys with values greater than 1.\n",
    "    \n",
    "    counter: dictionary that maps from keys to counts\n",
    "    \n",
    "    returns: list of keys\n",
    "    \"\"\""
   ]
  },
  {
   "cell_type": "code",
   "execution_count": 69,
   "id": "551f1176-a4bd-4c03-96c2-b0c1be81ea65",
   "metadata": {},
   "outputs": [
    {
     "name": "stdout",
     "output_type": "stream",
     "text": [
      "None\n"
     ]
    }
   ],
   "source": [
    "counter = {'apple': 2, 'banana': 3, 'pear': 1, 'orange': 4, 'melon': 1}\n",
    "\n",
    "repeated_keys = find_repeats(counter)\n",
    "print(repeated_keys)"
   ]
  },
  {
   "cell_type": "code",
   "execution_count": 19,
   "id": "aad62824-9e8b-49b1-97a7-d3480f31ccc0",
   "metadata": {},
   "outputs": [
    {
     "data": {
      "text/plain": [
       "'file_choose'"
      ]
     },
     "execution_count": 19,
     "metadata": {},
     "output_type": "execute_result"
    }
   ],
   "source": [
    "\"file_choose\""
   ]
  },
  {
   "cell_type": "markdown",
   "id": "35607904-c35a-4230-8ec6-a6091dd28829",
   "metadata": {},
   "source": [
    "## Learning SQL Problems"
   ]
  },
  {
   "cell_type": "markdown",
   "id": "bcafdd92-6b44-4f22-8fb9-2a6d978a0a85",
   "metadata": {},
   "source": [
    "6-2"
   ]
  },
  {
   "cell_type": "markdown",
   "id": "eda64132-85e1-4315-9aa6-0b6429819aa2",
   "metadata": {},
   "source": [
    "SELECT FirstName, LastName\n",
    "FROM Customers\n",
    "WHERE CustomerType = 'Individual'\n",
    "\n",
    "UNION\n",
    "\n",
    "SELECT FirstName, LastName\n",
    "FROM Employees;"
   ]
  },
  {
   "cell_type": "markdown",
   "id": "cabf0b32-c2c4-46df-b972-e920fd91d253",
   "metadata": {},
   "source": [
    "6-3"
   ]
  },
  {
   "cell_type": "markdown",
   "id": "e762f2fe-9685-4cf8-b481-76191a8ef547",
   "metadata": {},
   "source": [
    "SELECT FirstName, LastName\n",
    "FROM Customers\n",
    "WHERE CustomerType = 'Individual'\n",
    "\n",
    "UNION\n",
    "\n",
    "SELECT FirstName, LastName\n",
    "FROM Employees\n",
    "\n",
    "ORDER BY LastName;"
   ]
  },
  {
   "cell_type": "markdown",
   "id": "eca0cdf0-fece-4351-a6e3-2cad67f2bb37",
   "metadata": {},
   "source": [
    "8-1"
   ]
  },
  {
   "cell_type": "markdown",
   "id": "e194dfad-20dc-40c5-aeee-9c85e6e3bd3f",
   "metadata": {},
   "source": [
    "SELECT COUNT(*) AS TotalAccounts\n",
    "FROM Account;"
   ]
  },
  {
   "cell_type": "markdown",
   "id": "d7895632-d325-42a2-99cd-b26da37e2d8b",
   "metadata": {},
   "source": [
    "8-2"
   ]
  },
  {
   "cell_type": "markdown",
   "id": "6e4dad6b-c71e-425c-a577-0dc84ff87e0b",
   "metadata": {},
   "source": [
    "SELECT CustomerID, COUNT(*) AS AccountCount\n",
    "FROM Account\n",
    "GROUP BY CustomerID;"
   ]
  },
  {
   "cell_type": "markdown",
   "id": "7da7a9cf-688f-458f-aaf8-faed17248ea4",
   "metadata": {},
   "source": [
    "10-1"
   ]
  },
  {
   "cell_type": "markdown",
   "id": "92e7378d-7c4f-412f-94d1-00a5272648be",
   "metadata": {},
   "source": [
    "SELECT \n",
    "p.product_cd,p.name \n",
    "AS ProductName, a.account_id, a.customer_id\n",
    "FROM Product p\n",
    "LEFT JOIN Account a\n",
    "    ON p.product_cd = a.product_cd;"
   ]
  },
  {
   "cell_type": "code",
   "execution_count": null,
   "id": "583dad54-34ae-42cc-88f1-5e7f19e643e9",
   "metadata": {},
   "outputs": [],
   "source": []
  }
 ],
 "metadata": {
  "kernelspec": {
   "display_name": "Python [conda env:base]",
   "language": "python",
   "name": "conda-base-py"
  },
  "language_info": {
   "codemirror_mode": {
    "name": "ipython",
    "version": 3
   },
   "file_extension": ".py",
   "mimetype": "text/x-python",
   "name": "python",
   "nbconvert_exporter": "python",
   "pygments_lexer": "ipython3",
   "version": "3.12.7"
  }
 },
 "nbformat": 4,
 "nbformat_minor": 5
}
