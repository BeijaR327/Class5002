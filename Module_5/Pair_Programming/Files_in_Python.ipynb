{
 "cells": [
  {
   "cell_type": "markdown",
   "id": "dfd828e3-8952-464f-a0f7-15388cba3bad",
   "metadata": {},
   "source": [
    "# Files in Python\n",
    "Beija Richardson\n",
    "4/18/2025"
   ]
  },
  {
   "cell_type": "code",
   "execution_count": 2,
   "id": "e4e710a3-941d-4adb-815c-59bdc423f3bc",
   "metadata": {},
   "outputs": [],
   "source": [
    "import pandas as pd"
   ]
  },
  {
   "cell_type": "markdown",
   "id": "3e2e39c2-2568-4b6f-9591-a2b934ee8324",
   "metadata": {
    "jp-MarkdownHeadingCollapsed": true
   },
   "source": [
    "## GUI- Graphic User interfaces\n",
    "\n",
    "Handy if a non-programmer needs to use your code,  or if you want a file browser or something similar.\n",
    "\n",
    "The long term Python standy by is TKinter- The python interface to a general purpose packag ecalled the Tcl/Tk GUI toolkit\n",
    "\n",
    "https://docs.python.org/3/library/tkinter.html"
   ]
  },
  {
   "cell_type": "markdown",
   "id": "0706a8bb-d3b8-4300-8bc9-63d845ffc360",
   "metadata": {},
   "source": [
    "## Simple GUI constructor\n",
    "\n",
    "A more recent package for making simple GUIs is the easygui package\n",
    "\n",
    "conda install -c conda-forge easygui\n",
    "\n",
    "\n",
    "http://easygui.sourceforge.net/"
   ]
  },
  {
   "cell_type": "markdown",
   "id": "03977820-4f7c-4329-9b44-b2287c3e89a8",
   "metadata": {},
   "source": [
    "## Build a file browser using easyqui\n",
    "\n",
    "This will act like the R file_choose() function"
   ]
  },
  {
   "cell_type": "code",
   "execution_count": 9,
   "id": "6b2c9e74-4c09-4040-add3-ff3edb0e8ecf",
   "metadata": {},
   "outputs": [
    {
     "name": "stdout",
     "output_type": "stream",
     "text": [
      "Requirement already satisfied: easygui in c:\\users\\luke\\anaconda3\\lib\\site-packages (0.98.3)\n"
     ]
    }
   ],
   "source": [
    "!pip install easygui"
   ]
  },
  {
   "cell_type": "code",
   "execution_count": null,
   "id": "365bd60d-4617-407c-aefb-d070136e6b6b",
   "metadata": {},
   "outputs": [],
   "source": [
    "# A file selector in easygui\n",
    "\n",
    "import easygui as g\n",
    "\n",
    "title = 'dr_jeckyl-1.csv'\n",
    "filename = g.fileopenbox( title )\n",
    "\n",
    "print(filename)\n",
    "\n",
    "#note that figuring out where the fileopenbox is located can be a bit tough"
   ]
  },
  {
   "cell_type": "code",
   "execution_count": null,
   "id": "97cc63b3-c62a-4220-bc67-dbf1eb62b634",
   "metadata": {},
   "outputs": [],
   "source": [
    "# a directory selector in easygui\n",
    "\n",
    "dir_name=g.diropenbox()\n",
    "print(dir_name)"
   ]
  },
  {
   "cell_type": "code",
   "execution_count": null,
   "id": "afcac179-7132-424c-946d-2bd014730450",
   "metadata": {},
   "outputs": [],
   "source": [
    "# Text window in easygui\n",
    "my_string=\"once in while \\n things happen.  Or not.\"\n",
    "my_title=\"You know how it goes\"\n",
    "g.textbox(my_string,my_title)"
   ]
  },
  {
   "cell_type": "code",
   "execution_count": null,
   "id": "96c2df22-2b98-46c1-8bc0-f75c905d5d80",
   "metadata": {},
   "outputs": [],
   "source": []
  },
  {
   "cell_type": "code",
   "execution_count": null,
   "id": "8718bd7a-a9ca-470c-a5e1-350ea1c901e9",
   "metadata": {},
   "outputs": [],
   "source": []
  },
  {
   "cell_type": "markdown",
   "id": "ea5d6493-7116-44e9-9631-463607900f5a",
   "metadata": {},
   "source": [
    "# Files and Pandas\n",
    "\n",
    "We can read and write files easily using Pandas,  there are a bunch of utilities to do this\n",
    "\n",
    "This is the most useful approach when the data in question is readily imported into a Pandas dataframe, ie when the data is in flat tabular form.\n",
    "\n",
    "The easiest format to work with is a csv (comma separated values)\n",
    "\n",
    "To open the file we always need the filename.\n",
    "\n",
    "If the filename is not in the current working directory, then we need a full path name to open the file.\n",
    "\n",
    "\n",
    "We will \n",
    "\n",
    "  create a pandas dataframe\n",
    "  save it to a csv file in the current directory\n",
    "  load it again\n"
   ]
  },
  {
   "cell_type": "code",
   "execution_count": null,
   "id": "c808a164-dd13-436c-a7f9-6006d9a9c06c",
   "metadata": {},
   "outputs": [],
   "source": [
    "temp={'names':[\"Bob\",\"Nancy\",\"Chris\",\"Pat\", \"Morgan\"], 'ages':[10,11,9,10,10]}\n",
    "\n",
    "my_df=pd.DataFrame(temp)\n",
    "\n",
    "my_df"
   ]
  },
  {
   "cell_type": "code",
   "execution_count": null,
   "id": "6ee64302-c839-474a-a9b9-cf5962ac368b",
   "metadata": {},
   "outputs": [],
   "source": [
    "#Save this dataframe to the current working directory\n",
    "\n",
    "# its not a bad ideas to create a variable to save the file name\n",
    "\n",
    "outfile=\"name_example.csv\"\n",
    "\n",
    "# then call the method to_csv with the outfile.  This command also indicates that we do not want an row index written to the file\n",
    "\n",
    "my_df.to_csv(outfile, index=False)"
   ]
  },
  {
   "cell_type": "code",
   "execution_count": null,
   "id": "3e981962-be5d-4af3-8020-efe9d0cd09b0",
   "metadata": {},
   "outputs": [],
   "source": [
    "#reading a CSV file,   We have seen this many times\n",
    "\n",
    "# again a variable to hold the file name we want to load\n",
    "# we will use a file browser from easygui\n",
    "\n",
    "infile = g.fileopenbox( title )\n",
    "\n",
    "check_df=pd.read_csv(infile)\n",
    "\n",
    "check_df"
   ]
  },
  {
   "cell_type": "markdown",
   "id": "75dd2cf5-6128-4958-85ef-bd6f97775a1d",
   "metadata": {},
   "source": [
    "# Details on read_csv\n",
    "\n",
    "There are some things to be aware of with read_csv\n",
    "\n",
    "First,  it actually loads the file as a text file, and then analyzes the contents of each row to try to infer what the data type is for each column\n",
    "\n",
    "If your data file is truly immense, this will be a slow process, and it can take up a lot of memory to load all the data as text (since integers or floats usually take less space to store).\n",
    "\n",
    "We can specify the data types of the columns and specify this in the read_csv function\n",
    "\n",
    "For an unknown file, we might read the first 5 lines or so to see the variables, then load it again, supplying a list of variable types\n",
    "\n",
    "\n",
    "See the pandas read_csv manual at\n",
    "\n",
    "https://pandas.pydata.org/docs/reference/api/pandas.read_csv.html"
   ]
  },
  {
   "cell_type": "code",
   "execution_count": null,
   "id": "7d8aaee1-9c28-45b3-914d-6f1d1ad849b9",
   "metadata": {},
   "outputs": [],
   "source": [
    "infile=\"name_example.csv\"\n",
    "\n",
    "check_df=pd.read_csv(infile,nrows=5)\n",
    "\n",
    "check_df"
   ]
  },
  {
   "cell_type": "code",
   "execution_count": null,
   "id": "2bed4a2a-db45-4e23-8ac0-aab3e625f7b2",
   "metadata": {},
   "outputs": [],
   "source": [
    "# what datatypes did pandas infer?\n",
    "\n",
    "check_df.dtypes"
   ]
  },
  {
   "cell_type": "code",
   "execution_count": null,
   "id": "320beb3c-e76a-4144-80d5-e70ae605a99d",
   "metadata": {},
   "outputs": [],
   "source": [
    "# I can now create a dictionary that specifies the data types of each column\n",
    "#  I'm okay with the data types here, but we could specify other data types, like 16 bit integers to save space\n",
    "# relative to the default 32 bit - that alone cuts the storage space of these columns in half.\n",
    "\n",
    "\n",
    "my_dtypes={\"names\":str,\"ages\":int}\n",
    "\n",
    "infile=\"name_example.csv\"\n",
    "\n",
    "check_df=pd.read_csv(infile,nrows=5,dtype=my_dtypes)\n",
    "\n",
    "check_df\n"
   ]
  },
  {
   "cell_type": "code",
   "execution_count": null,
   "id": "bb79d04a-f588-4f66-b42c-5659e4e90c3c",
   "metadata": {},
   "outputs": [],
   "source": [
    "check_df.dtypes"
   ]
  },
  {
   "cell_type": "markdown",
   "id": "da76df89-d9ae-4d1a-b348-c7ca2490debc",
   "metadata": {},
   "source": [
    "In such a small example, this type of detail hardly matters.   \n",
    "\n",
    "But if you are working with data sets that are many gigs in size, this will matter greatly"
   ]
  },
  {
   "cell_type": "markdown",
   "id": "921af1cd-4aaa-4cc3-8225-04e668a9b767",
   "metadata": {},
   "source": [
    "# Pandas and other file formats\n",
    "\n",
    "I typically just convert other common formats into a .csv file,   it's the simplest approach, but Pandas can load other file formats\n",
    "\n",
    "There are tools to read Excel files, or other formats, and to read and write to the operating system clipboard, which can be handy.\n",
    "\n",
    "See\n",
    "\n",
    "https://pandas.pydata.org/docs/reference/io.html\n",
    "\n"
   ]
  },
  {
   "cell_type": "markdown",
   "id": "f3fb3e97-0ccd-4080-8694-cf4c6fa4865d",
   "metadata": {},
   "source": [
    "# Working with text files\n",
    "\n",
    "It is also possible to work with unformatted text files.\n",
    "\n",
    "This is a way that you can open pretty much any file and extract the information from it.\n",
    "\n",
    "With patience and a good understanding of regex, you can open pretty much any file as text (or binary data) and then process it to extract \n",
    "the data. \n",
    "\n",
    "This gets important when the data is formatted to be primarily \"human-readable\" rather than machine-readable.\n",
    "\n",
    "There are some common specialty formats as well\n",
    "\n",
    "-JSON and YAML are file formats that use key:value pairs to store data in ways that are both machine readable and also easily read by humans. \n",
    "There are tools to read and write these formats from within python.\n",
    "\n",
    "-html and xml-  These are mark-up languages used for websites and some data storage forms.   They have embedded tags that can be used to \n",
    "  parse these formats and extract data.  This is often important in webscraping\n",
    "\n",
    "\n",
    "We will focus here on plain text files"
   ]
  },
  {
   "cell_type": "markdown",
   "id": "3d7f7765-b9cd-40a5-9331-4cbea99130b8",
   "metadata": {},
   "source": [
    "# File handles\n",
    "\n",
    "Typically, we first obtain a file handle from the operator system, which is used to access the file\n",
    "\n",
    "(this is somewhat similar in nature to the connection we use to connect to a database)\n",
    "\n",
    "A file handle is obtained using the open() command.  \n",
    "\n",
    "To open a file, we must specify the file name (including the file path),  we must indicate if we want to read (r), write(w), append(a), both read and write (r+).  The default is text mode, but we can specify binary mode using rb, wb, ab, rb+ etc.\n",
    "\n",
    "We may also need to specify the *encoding*, because not all text files use the same encoding of language."
   ]
  },
  {
   "cell_type": "code",
   "execution_count": null,
   "id": "cc7b0b7f-86c2-4598-973a-ac1326c55ff1",
   "metadata": {},
   "outputs": [],
   "source": [
    "infile2=\"dr_jeckyl.txt\"\n",
    "\n",
    "fhandle2=open(infile2,\"r\",encoding=\"utf8\")"
   ]
  },
  {
   "cell_type": "code",
   "execution_count": null,
   "id": "2a3179a7-7bf8-4f79-aede-e4c595c77315",
   "metadata": {
    "scrolled": true
   },
   "outputs": [],
   "source": [
    "# read just 1000 bytes from the file\n",
    "\n",
    "my_text=fhandle2.read(1000)\n",
    "\n",
    "print(my_text)"
   ]
  },
  {
   "cell_type": "markdown",
   "id": "4d746003-9c80-42fc-9fc2-a85425789a26",
   "metadata": {},
   "source": [
    "# Encoding\n",
    "\n",
    "The default encoding in Windows is UTF-16,  the Ubuntu version of Linux uses UTF-8,  Mac OS uses UTF-8\n",
    "\n",
    "Older window systems used Latin-1\n",
    "\n",
    "Most of the time this doesn't really matter\n",
    "\n",
    "For non-english language sources, many different encodings are in use to handle the diacritical marks used in other languages"
   ]
  },
  {
   "cell_type": "markdown",
   "id": "bd9323c2-af7d-4443-94a9-c65d8a827eda",
   "metadata": {},
   "source": [
    "# Reading options\n",
    "\n",
    "There are many options for file reading functions once we have the handle\n",
    "\n",
    "I tend to just read the entire text in at once\n",
    "\n",
    "It comes in as one gigantic string, which then can be parsed out, and split up into individual words or sentences or lines"
   ]
  },
  {
   "cell_type": "code",
   "execution_count": null,
   "id": "0c485765-dc92-4f96-90fd-5046c6f552ed",
   "metadata": {},
   "outputs": [],
   "source": [
    "my_text=fhandle2.read()\n",
    "\n",
    "type(my_text)"
   ]
  },
  {
   "cell_type": "code",
   "execution_count": null,
   "id": "4c2fd941-4088-4596-8895-d716bd820600",
   "metadata": {},
   "outputs": [],
   "source": [
    "len(my_text)"
   ]
  },
  {
   "cell_type": "code",
   "execution_count": null,
   "id": "82fa57a4-bb67-4e9d-8490-cf9d65e13475",
   "metadata": {},
   "outputs": [],
   "source": [
    "my_text[0:1000]"
   ]
  },
  {
   "cell_type": "code",
   "execution_count": null,
   "id": "df97d25a-8833-4363-8cf1-6b07e02f37c5",
   "metadata": {},
   "outputs": [],
   "source": [
    "# When we are done, we should release the file handle and close the file\n",
    "\n",
    "fhandle2.close()"
   ]
  },
  {
   "cell_type": "markdown",
   "id": "34554279-1941-4532-96cf-e76f1c1e843c",
   "metadata": {},
   "source": [
    "# Reading a file line by line\n",
    "\n",
    "We can use the \"with\" operator and readline() together to read a textfile in line by line, which may be easier to work with.\n",
    "\n",
    "The \"with\" operator automates the file closing as well.\n",
    "\n",
    "This set of operations generates a list of strings"
   ]
  },
  {
   "cell_type": "code",
   "execution_count": null,
   "id": "0d971eee-7153-4190-b81a-27972d137058",
   "metadata": {},
   "outputs": [],
   "source": [
    "count=0;                      #running a counter to determine how many lines\n",
    "my_lines=[]                   # an empty list, I'll add each line to it as we load it\n",
    "   \n",
    "for line in open(infile2, encoding=\"utf-8\"):                \n",
    "    my_lines.append(line)\n",
    "    count=count+1\n",
    "\n",
    "print(count-1)\n",
    "print(my_lines[0])\n",
    "print(my_lines[1])\n",
    "print(my_lines[2])\n",
    "\n"
   ]
  },
  {
   "cell_type": "markdown",
   "id": "50982e89-4d51-4919-b92a-5dc216575fb2",
   "metadata": {},
   "source": [
    "# Writing a file\n",
    "\n",
    "At times you may find the need to write data to a file so you can load it into some other piece of software.\n",
    "\n",
    "You may find that you need a very specific, non-standard format, so being able to write data out line by line can be what you need to do\n",
    "\n",
    "The python format string method helps greatly\n",
    "\n",
    "It is written as f'Just ordinary text writing {variable_name}'\n",
    "\n",
    "Anything in the curly brackets is added as text"
   ]
  },
  {
   "cell_type": "code",
   "execution_count": null,
   "id": "5415da9a-ab31-4418-baa1-e49c79ad5cfb",
   "metadata": {},
   "outputs": [],
   "source": [
    "a= 4\n",
    "b=5\n",
    "\n",
    "print( f'Well, the first value is {a} and the second is {b}')"
   ]
  },
  {
   "cell_type": "code",
   "execution_count": null,
   "id": "605dfd75-193d-4548-901c-b1f8d608963e",
   "metadata": {},
   "outputs": [],
   "source": [
    "# backslash gives us a linefeed\n",
    "c=-1\n",
    "d=\"NYC\"\n",
    "\n",
    "# this is a single line of CSV values\n",
    "\n",
    "print(f'{a},{b},{c},{d} \\n')"
   ]
  },
  {
   "cell_type": "code",
   "execution_count": null,
   "id": "06126429-1745-4dd2-af92-b3824c55c9d5",
   "metadata": {},
   "outputs": [],
   "source": [
    "# specify the file and path\n",
    "# get a file handle to write in text, using utf8 encoding\n",
    "\n",
    "outfile=\"write_test.txt\"\n",
    "fhandle3=open(outfile, \"w\",encoding=\"utf8\")\n",
    "\n",
    "fhandle3.write(f'{a},{b},{c},{d} \\n')\n",
    "\n",
    "fhandle3.close()\n",
    "\n",
    "# if you double click on this file name in the file browser section of Jupyter lab on the left, it will open and you can read the contents"
   ]
  },
  {
   "cell_type": "markdown",
   "id": "64688fe3-43b1-4283-9e40-c02d0e3d6283",
   "metadata": {},
   "source": [
    "# More\n",
    "\n",
    "There are many more file operations available,  from here you can do some reading on all the options\n",
    "\n",
    "The text file opening routines you have seen here I first saw when I learned the C language back in 1985.  The basic file operations (read, write) in Python (and R, Matlab and many other languages) all seem to work the same way.  I don't know if this method was the same in earlier languages or not,    C may have lifted it from somewhere else.   I do know R and Python use subroutines in C,  so I suppose the use of C styel file I/O should not come as a surprise.  In any case, you now know how this family of methods works,   just look up the fine details in R or Python as needed.\n",
    "\n",
    "Here is the outline again:\n",
    "\n",
    "-get a handle, specifying the types of operations\n",
    "\n",
    "-use the handle to read and/or write\n",
    "\n",
    "-close the handle.\n",
    "\n"
   ]
  }
 ],
 "metadata": {
  "kernelspec": {
   "display_name": "Python [conda env:base]",
   "language": "python",
   "name": "conda-base-py"
  },
  "language_info": {
   "codemirror_mode": {
    "name": "ipython",
    "version": 3
   },
   "file_extension": ".py",
   "mimetype": "text/x-python",
   "name": "python",
   "nbconvert_exporter": "python",
   "pygments_lexer": "ipython3",
   "version": "3.12.7"
  }
 },
 "nbformat": 4,
 "nbformat_minor": 5
}
