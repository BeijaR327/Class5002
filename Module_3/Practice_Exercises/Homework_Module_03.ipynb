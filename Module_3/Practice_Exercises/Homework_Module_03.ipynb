{
 "cells": [
  {
   "cell_type": "markdown",
   "id": "549c8689-9196-4273-baa0-2534727d0d5a",
   "metadata": {},
   "source": [
    "# Homework/Lab 3,   DSE5002\n",
    "\n",
    "Beija Richardson 4/5/2025\n",
    "Created 2/11/2025\n",
    "\n",
    "See\n",
    "\n",
    "Think Python\n",
    "https://allendowney.github.io/ThinkPython/chap05.html\n"
   ]
  },
  {
   "cell_type": "markdown",
   "id": "b01363f7-3f85-4d7f-a32c-d1c29c49f5af",
   "metadata": {},
   "source": [
    "# 5.14.1. Ask a virtual assistant\n",
    "\n",
    "Ask a virtual assistant, “What are some uses of the modulus operator?”\n",
    "\n"
   ]
  },
  {
   "cell_type": "markdown",
   "id": "e07ca527-57c6-433b-838c-27bdf1c5b04a",
   "metadata": {},
   "source": [
    "## I asked Siri and it showed \" The modulus operator is commonly used in programming to check if a numbber is divisible by another number or to perform operations that require a cyclic pattern.\" resources were used by tecadmin.net"
   ]
  },
  {
   "cell_type": "markdown",
   "id": "99fff044-a8fe-426a-8aff-a57a53059b6a",
   "metadata": {},
   "source": [
    "In this chapter, we saw two ways to write an if statement with three branches, using a chained conditional or a nested conditional. You can use a virtual assistant to convert from one to the other. For example, ask a VA, “Convert this statement to a chained conditional.”\n",
    "\n",
    "if x == y:\n",
    "    print('x and y are equal')\n",
    "else:\n",
    "    if x < y:\n",
    "        print('x is less than y')\n",
    "    else:\n",
    "        print('x is greater than y')\n",
    "\n",
    "Copy and paste the code from the VA and figure out if it works.  If it doesn't, fix it\n",
    "        "
   ]
  },
  {
   "cell_type": "markdown",
   "id": "a3d57baa-d036-4068-990c-480fe8cf0827",
   "metadata": {},
   "source": [
    "## Used ChatGPT : print('x and y are equal') if x == y else print('x is less than y') if x < y else print('x is greater than y') It needs a x assigned "
   ]
  },
  {
   "cell_type": "code",
   "execution_count": 7,
   "id": "37f95624-a727-4d9b-90f0-8aaf13e4e46a",
   "metadata": {},
   "outputs": [
    {
     "name": "stdout",
     "output_type": "stream",
     "text": [
      "x is less than y\n"
     ]
    }
   ],
   "source": [
    "x=1\n",
    "y=3\n",
    "print('x and y are equal') if x == y else print('x is less than y') if x < y else print('x is greater than y')"
   ]
  },
  {
   "cell_type": "markdown",
   "id": "0e1f02c6-73f8-48e3-9faa-5efe8cd04471",
   "metadata": {},
   "source": [
    "Ask a VA, “Rewrite this statement with a single conditional.”\n",
    "\n",
    "if 0 < x:\n",
    "    if x < 10:\n",
    "        print('x is a positive single-digit number.')\n",
    "\n",
    "If this doesn't work, fix ti"
   ]
  },
  {
   "cell_type": "markdown",
   "id": "7686ab21-7c48-41ba-a6b8-5e363959cea1",
   "metadata": {},
   "source": [
    "## Used ChatGPT: if 0 < x < 10: print('x is a positive single-digit number.') It works."
   ]
  },
  {
   "cell_type": "code",
   "execution_count": 15,
   "id": "ab6e1c75-03d0-4276-a8e6-d70319ce5a9a",
   "metadata": {},
   "outputs": [
    {
     "name": "stdout",
     "output_type": "stream",
     "text": [
      "x is a positive single-digit number.\n"
     ]
    }
   ],
   "source": [
    "if 0 < x < 10: print('x is a positive single-digit number.')"
   ]
  },
  {
   "cell_type": "markdown",
   "id": "0f44a983-208e-45fd-8b9d-8fa10c273cf9",
   "metadata": {},
   "source": [
    "Here’s an attempt at a recursive function that counts down by two.\n",
    "\n",
    "def countdown_by_two(n):\n",
    "    if n == 0:\n",
    "        print('Blastoff!')\n",
    "    else:\n",
    "        print(n)\n",
    "        countdown_by_two(n-2)"
   ]
  },
  {
   "cell_type": "code",
   "execution_count": 24,
   "id": "6c1791d7-b0c9-4eb8-943e-66d473ef35be",
   "metadata": {},
   "outputs": [],
   "source": [
    "def countdown_by_two(n): \n",
    "    if n == 0:\n",
    "        print('Blastoff!')\n",
    "    else: \n",
    "        print(n)\n",
    "        countdown_by_two(n-2)"
   ]
  },
  {
   "cell_type": "markdown",
   "id": "b530c808-697f-45d4-a5d4-c067b890b60d",
   "metadata": {},
   "source": [
    "# 5.14.3. Exercise\n",
    "\n",
    "If you are given three sticks, you may or may not be able to arrange them in a triangle. For example, if one of the sticks is 12 inches long and the other two are one inch long, you will not be able to get the short sticks to meet in the middle. For any three lengths, there is a test to see if it is possible to form a triangle:\n",
    "\n",
    "If any of the three lengths is greater than the sum of the other two, then you cannot form a triangle. Otherwise, you can. (If the sum of two lengths equals the third, they form what is called a “degenerate” triangle.)\n",
    "\n",
    "Write a function named is_triangle that takes three integers as arguments, and that prints either “Yes” or “No”, depending on whether you can or cannot form a triangle from sticks with the given lengths. Hint: Use a chained conditional."
   ]
  },
  {
   "cell_type": "code",
   "execution_count": 26,
   "id": "13207c22-d186-4a0e-bbb8-ff5f0edcdf3e",
   "metadata": {},
   "outputs": [],
   "source": [
    "def is_triangle(a, b, c):\n",
    "    print(\"Yes\") if a + b > c and a + c > b and b + c > a else print(\"No\")"
   ]
  },
  {
   "cell_type": "code",
   "execution_count": 28,
   "id": "93477afa-381a-4fdd-99a3-f8950730eb2c",
   "metadata": {},
   "outputs": [
    {
     "name": "stdout",
     "output_type": "stream",
     "text": [
      "Yes\n"
     ]
    }
   ],
   "source": [
    "is_triangle(7,8,9)"
   ]
  },
  {
   "cell_type": "code",
   "execution_count": 30,
   "id": "b650fb6c-35e7-4e4c-8bcd-85a139d82904",
   "metadata": {},
   "outputs": [
    {
     "name": "stdout",
     "output_type": "stream",
     "text": [
      "No\n"
     ]
    }
   ],
   "source": [
    "is_triangle(16,24,68)"
   ]
  }
 ],
 "metadata": {
  "kernelspec": {
   "display_name": "Python [conda env:base]",
   "language": "python",
   "name": "conda-base-py"
  },
  "language_info": {
   "codemirror_mode": {
    "name": "ipython",
    "version": 3
   },
   "file_extension": ".py",
   "mimetype": "text/x-python",
   "name": "python",
   "nbconvert_exporter": "python",
   "pygments_lexer": "ipython3",
   "version": "3.12.7"
  }
 },
 "nbformat": 4,
 "nbformat_minor": 5
}
