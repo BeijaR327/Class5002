{
 "cells": [
  {
   "cell_type": "markdown",
   "id": "4322c60c-a2d0-4d32-8ade-89273865b9c2",
   "metadata": {},
   "source": [
    "# Beija Richardson 5/1/25"
   ]
  },
  {
   "cell_type": "markdown",
   "id": "1f61b854-1597-4227-886b-753acac03e9d",
   "metadata": {},
   "source": [
    "\n",
    "\n",
    "# Sorting algorithms\n",
    "\n",
    "Most of the time, we will used \"canned\" sorting algorithms when we do data science.\n",
    "\n",
    "But, it is important to be aware of some common algorithms,  so we will look at a couple sorting algorithms\n",
    "\n",
    "We also need to understand how to characterize the run time or efficiency of an algorithm\n",
    "\n",
    "\n",
    "\n",
    "Bubble sort is from: \n",
    "\n",
    "https://www.geeksforgeeks.org/python-program-for-bubble-sort/    \n"
   ]
  },
  {
   "cell_type": "markdown",
   "id": "e20e0d21-59f0-4edd-9a57-ca27915ba1ca",
   "metadata": {},
   "source": [
    "# Bubble Sort\n",
    "\n",
    "This was invented by Edward Friend in 1956.\n",
    "\n",
    "It is not the best available sort, but it is taught in most intro to programming courses, so we need to see it.\n",
    "\n"
   ]
  },
  {
   "cell_type": "code",
   "execution_count": 8,
   "id": "61e158ac-a097-490c-a98e-2d3d567ca0b6",
   "metadata": {},
   "outputs": [
    {
     "name": "stdout",
     "output_type": "stream",
     "text": [
      "Unsorted list is:\n",
      "[39, 12, 18, 85, 72, 10, 2, 18]\n",
      "Sorted list is:\n",
      "[2, 10, 12, 18, 18, 39, 72, 85]\n"
     ]
    }
   ],
   "source": [
    "def bubble_sort(arr):\n",
    "\n",
    "    nouter=len(arr)\n",
    "    \n",
    "    # Outer loop to iterate through the list n times, starting at the 2nd to last item in the array, ending at zero, moving in steps of -1\n",
    "    for n in range(nouter - 1, 0, -1):\n",
    "             \n",
    "        # Inner loop to compare adjacent elements  \n",
    "        # start at zero and go up to \n",
    "        \n",
    "        for i in range(n):\n",
    "            if arr[i] > arr[i + 1]:\n",
    "                # Swap elements if they are in the wrong order\n",
    "                arr[i], arr[i + 1] = arr[i + 1], arr[i]\n",
    "\n",
    "# the outer loop starts with n=length-1\n",
    "# the inner loop then moves the largest item it finds to the end of the list,  like a bubble floating to the top\n",
    "# the outer loop then runs at n=length-2, and the second largest item is moved to the end\n",
    "       \n",
    "\n",
    "# Sample list to be sorted\n",
    "arr = [39, 12, 18, 85, 72, 10, 2, 18]\n",
    "print(\"Unsorted list is:\")\n",
    "print(arr)\n",
    "\n",
    "bubble_sort(arr)\n",
    "\n",
    "print(\"Sorted list is:\")\n",
    "print(arr)\n"
   ]
  },
  {
   "cell_type": "markdown",
   "id": "77cdb27e-f6aa-473e-aacb-3b44f00b04fc",
   "metadata": {},
   "source": [
    "# *Question/Action *\n",
    "\n",
    "Only one simple change on one line of the function is needed to make it sort in descending form\n",
    "\n",
    "Copy and paste, then edit to bubble_sort_descending,   show that this works.\n",
    "\n",
    "Dont' alter the loop directions..."
   ]
  },
  {
   "cell_type": "code",
   "execution_count": 22,
   "id": "6011037c-734f-41f3-8e22-32464d4df7fa",
   "metadata": {},
   "outputs": [
    {
     "name": "stdout",
     "output_type": "stream",
     "text": [
      "Unsorted list is:\n",
      "[39, 12, 18, 85, 72, 10, 2, 18]\n",
      "Sorted list descending:\n",
      "[85, 72, 39, 18, 18, 12, 10, 2]\n"
     ]
    }
   ],
   "source": [
    "def bubble_sort(arr, descending=False):\n",
    "    nouter = len(arr)\n",
    "    for n in range(nouter - 1, 0, -1):\n",
    "        for i in range(n):\n",
    "            if (arr[i] > arr[i + 1] and not descending) or (arr[i] < arr[i + 1] and descending):\n",
    "                arr[i], arr[i + 1] = arr[i + 1], arr[i]\n",
    "\n",
    "arr= [39, 12, 18, 85, 72, 10, 2, 18]\n",
    "print(\"Unsorted list is:\")\n",
    "print(arr)\n",
    "\n",
    "bubble_sort(arr)\n",
    "\n",
    "bubble_sort(arr, descending=True) \n",
    "print(\"Sorted list descending:\")\n",
    "print(arr)"
   ]
  },
  {
   "cell_type": "markdown",
   "id": "15a502db-6012-4a4b-8813-3bf5e63fcd9b",
   "metadata": {},
   "source": [
    "# Time\n",
    "\n",
    "## How fast is our code?  How do we describe this?\n",
    "\n",
    "Let's use %timeit to time how long  a bubble sort takes at some different array lengths\n",
    "\n",
    "The number of repetitions of the loop is n*(n-1), so the run time should be proportional to $n^2$\n",
    "\n",
    "The speed of the algorithm is said to be order of $n^2$,   written as *O*($n^2$)\n",
    "\n",
    "In Computer science, we really want to know the order of the algorithms we use\n",
    "\n"
   ]
  },
  {
   "cell_type": "code",
   "execution_count": 25,
   "id": "00ec5def-3dd7-491f-bed4-7c3474c027cb",
   "metadata": {},
   "outputs": [],
   "source": [
    "import random\n",
    "random_numbers = [random.random() for _ in range(50)]"
   ]
  },
  {
   "cell_type": "code",
   "execution_count": 27,
   "id": "673d4dba-f249-408b-9e73-2b3af8280bba",
   "metadata": {},
   "outputs": [
    {
     "name": "stdout",
     "output_type": "stream",
     "text": [
      "113 μs ± 5.29 μs per loop (mean ± std. dev. of 7 runs, 10,000 loops each)\n"
     ]
    }
   ],
   "source": [
    "#50 values in random numbers\n",
    "\n",
    "%timeit bubble_sort(random_numbers)\n"
   ]
  },
  {
   "cell_type": "code",
   "execution_count": 28,
   "id": "bf71dc6c-6f83-4f91-adbc-526a36769abf",
   "metadata": {},
   "outputs": [
    {
     "name": "stdout",
     "output_type": "stream",
     "text": [
      "12 ms ± 180 μs per loop (mean ± std. dev. of 7 runs, 100 loops each)\n"
     ]
    }
   ],
   "source": [
    "random_numbers = [random.random() for _ in range(500)]\n",
    "%timeit bubble_sort(random_numbers)"
   ]
  },
  {
   "cell_type": "code",
   "execution_count": 29,
   "id": "c76c01f5-2747-49d5-9ea0-9430d2114801",
   "metadata": {},
   "outputs": [
    {
     "name": "stdout",
     "output_type": "stream",
     "text": [
      "250 ms ± 14.3 ms per loop (mean ± std. dev. of 7 runs, 1 loop each)\n"
     ]
    }
   ],
   "source": [
    "random_numbers = [random.random() for _ in range(2000)]\n",
    "%timeit bubble_sort(random_numbers)"
   ]
  },
  {
   "cell_type": "code",
   "execution_count": 31,
   "id": "fbc9f96a-cf8b-40c2-8ca4-3cd1c046418a",
   "metadata": {},
   "outputs": [
    {
     "name": "stdout",
     "output_type": "stream",
     "text": [
      "1.51 s ± 17.6 ms per loop (mean ± std. dev. of 7 runs, 1 loop each)\n"
     ]
    }
   ],
   "source": [
    "random_numbers = [random.random() for _ in range(5000)]\n",
    "%timeit bubble_sort(random_numbers)"
   ]
  },
  {
   "cell_type": "code",
   "execution_count": 32,
   "id": "b06140db-4a65-475e-a1bd-c684b5308fd4",
   "metadata": {},
   "outputs": [
    {
     "data": {
      "text/plain": [
       "[<matplotlib.lines.Line2D at 0x1f7047552e0>]"
      ]
     },
     "execution_count": 32,
     "metadata": {},
     "output_type": "execute_result"
    },
    {
     "data": {
      "image/png": "[encoded data removed]",
      "text/plain": [
       "<Figure size 640x480 with 1 Axes>"
      ]
     },
     "metadata": {},
     "output_type": "display_data"
    }
   ],
   "source": [
    "import matplotlib.pyplot as plt\n",
    "import numpy as np\n",
    "\n",
    "time=[60.2e-6, 5.92e-3,113e-3,703e-3]\n",
    "n=[50,500,2000,5000]      \n",
    "\n",
    "plt.plot(n,time)"
   ]
  },
  {
   "cell_type": "markdown",
   "id": "8b8c7284-cc32-4c83-b26f-154c229c6e09",
   "metadata": {},
   "source": [
    "# A better sorting algorithm\n",
    "\n",
    "The mergesort is a faster, more efficient way to sort."
   ]
  },
  {
   "cell_type": "code",
   "execution_count": 40,
   "id": "f21436ac-5345-47cb-acdf-c9dba54e4be4",
   "metadata": {},
   "outputs": [],
   "source": [
    "import math   # needed for the floor() operation\n",
    "\n",
    "def merge(left, right):                         #left and right are two lists, each is in order internally\n",
    "    result = []                                 # result will hold the merged list\n",
    "    i ,j = 0, 0                                 # \"cursor\" positions in the two lists\n",
    "    while i < len(left) and j < len(right):    # repeat until we run out of items in the lists\n",
    "        if left[i] <= right[j]:                # figure out which is smaller, the next item in left or right, put the smaller into the results\n",
    "            result.append(left[i])             # increase i or j to the next time in the list\n",
    "            i += 1\n",
    "        else:\n",
    "            result.append(right[j])\n",
    "            j += 1\n",
    "    result += left[i:]                         # add the remaining items in each list to results,  only one will have remaining values\n",
    "    result += right[j:]\n",
    "    return result                              # we have now merged left and right into a merged list\n",
    "\n",
    "def mergesort(list):\n",
    "    if len(list) < 2:\n",
    "        return list\n",
    "    middle = math.floor(len(list) / 2)\n",
    "    left = mergesort(list[:middle])              # note the recursion,   it will keep splitting the left list till only 1 element remains,\n",
    "                                                    # then merger the 1 element listing,  ordering them as it goes,  it will do the same \n",
    "                                                    # to the right list,\n",
    "    right = mergesort(list[middle:])\n",
    "    return merge(left, right)"
   ]
  },
  {
   "cell_type": "code",
   "execution_count": 42,
   "id": "394640ae-7b09-42f7-8eac-b2a9005c81e4",
   "metadata": {},
   "outputs": [
    {
     "data": {
      "text/plain": [
       "[2, 10, 12, 18, 18, 39, 72, 85]"
      ]
     },
     "execution_count": 42,
     "metadata": {},
     "output_type": "execute_result"
    }
   ],
   "source": [
    "mergesort(arr)"
   ]
  },
  {
   "cell_type": "markdown",
   "id": "5487347b-827d-41df-ab9c-e6ca73ab8dfe",
   "metadata": {},
   "source": [
    "# How does the Mergesort work?\n",
    "\n",
    "Note this implementation is recursive.\n",
    "\n",
    "If the length of a list is 1, we just return it\n",
    "\n",
    "Other wise\n",
    "\n",
    "1.) find the midpoint\n",
    "2.) Mergesort the left half\n",
    "3.) Mergestor the right half\n",
    "3.) \"Merge\" the two sorted halves of the two lists,  in the values in the two lists are combined back into a single list, always by \n",
    "adding the smallest value in either the two lists into the single merged list."
   ]
  },
  {
   "cell_type": "markdown",
   "id": "41426672-5eb2-4962-93f6-8f65d0d6c471",
   "metadata": {},
   "source": [
    "# How fast should mergesort be?\n",
    "\n",
    "This can get complicated, but it appears that mergesort is faster than\n",
    "\n",
    "O($n log n + n + O(log n)$)\n",
    "\n",
    "the lead term here is nlog(n),   which is less than $n^2$ \n",
    "\n",
    "mergesort is a bit unpredictable in it's timing, it can vary greatly with the amount of order already present"
   ]
  },
  {
   "cell_type": "code",
   "execution_count": 46,
   "id": "c26c0cde-ca2a-4d27-afd7-0e1ba61ccc2c",
   "metadata": {},
   "outputs": [
    {
     "name": "stdout",
     "output_type": "stream",
     "text": [
      "919 μs ± 21.4 μs per loop (mean ± std. dev. of 7 runs, 1,000 loops each)\n"
     ]
    }
   ],
   "source": [
    "random_numbers = [random.random() for _ in range(500)]\n",
    "%timeit mergesort(random_numbers)"
   ]
  },
  {
   "cell_type": "code",
   "execution_count": 47,
   "id": "fe6ad512-c67b-4446-b377-e0af7bd4ff09",
   "metadata": {},
   "outputs": [
    {
     "name": "stdout",
     "output_type": "stream",
     "text": [
      "12.7 ms ± 308 μs per loop (mean ± std. dev. of 7 runs, 100 loops each)\n"
     ]
    }
   ],
   "source": [
    "random_numbers = [random.random() for _ in range(5000)]\n",
    "%timeit mergesort(random_numbers)"
   ]
  },
  {
   "cell_type": "markdown",
   "id": "71a9d055-328e-4498-851f-0cc6855bb658",
   "metadata": {},
   "source": [
    "# *Question/Action*\n",
    "\n",
    "Generate a series of tests of the time to run a mergesort over the same range of n values we used for the bubblesort\n",
    "and set up lists of n_merge and t_merger.\n",
    "\n",
    "Plot the time vs n for the bubblesort and the mergesort on a single graph."
   ]
  },
  {
   "cell_type": "code",
   "execution_count": 50,
   "id": "26a3d45b-ca3a-4732-94be-85b36363d550",
   "metadata": {},
   "outputs": [
    {
     "name": "stdout",
     "output_type": "stream",
     "text": [
      "65.8 μs ± 1.3 μs per loop (mean ± std. dev. of 7 runs, 10,000 loops each)\n"
     ]
    }
   ],
   "source": [
    "import random\n",
    "random_numbers = [random.random() for _ in range(50)]\n",
    "\n",
    "%timeit mergesort(random_numbers)"
   ]
  },
  {
   "cell_type": "code",
   "execution_count": 52,
   "id": "5f45fbed-e9e1-4b4e-9ef6-268f7a5f3806",
   "metadata": {},
   "outputs": [
    {
     "name": "stdout",
     "output_type": "stream",
     "text": [
      "934 μs ± 24.7 μs per loop (mean ± std. dev. of 7 runs, 1,000 loops each)\n"
     ]
    }
   ],
   "source": [
    "random_numbers = [random.random() for _ in range(500)]\n",
    "%timeit mergesort(random_numbers)"
   ]
  },
  {
   "cell_type": "code",
   "execution_count": 54,
   "id": "9639d9e8-8b7e-42e1-b07b-a0c0b760b4d0",
   "metadata": {},
   "outputs": [
    {
     "name": "stdout",
     "output_type": "stream",
     "text": [
      "4.68 ms ± 238 μs per loop (mean ± std. dev. of 7 runs, 100 loops each)\n"
     ]
    }
   ],
   "source": [
    "random_numbers = [random.random() for _ in range(2000)]\n",
    "%timeit mergesort(random_numbers)"
   ]
  },
  {
   "cell_type": "code",
   "execution_count": 56,
   "id": "f0b336e4-dbef-433e-bd08-b01fa01e7cb1",
   "metadata": {},
   "outputs": [
    {
     "name": "stdout",
     "output_type": "stream",
     "text": [
      "12.6 ms ± 284 μs per loop (mean ± std. dev. of 7 runs, 100 loops each)\n"
     ]
    }
   ],
   "source": [
    "random_numbers = [random.random() for _ in range(5000)]\n",
    "%timeit mergesort(random_numbers)"
   ]
  },
  {
   "cell_type": "code",
   "execution_count": 71,
   "id": "f533a901-d2e5-4d03-9cdc-c41102a7fa1b",
   "metadata": {},
   "outputs": [
    {
     "data": {
      "image/png": "[encoded data removed]",
      "text/plain": [
       "<Figure size 1000x600 with 1 Axes>"
      ]
     },
     "metadata": {},
     "output_type": "display_data"
    }
   ],
   "source": [
    "import time\n",
    "import matplotlib.pyplot as plt\n",
    "\n",
    "def bubble_sort(arr):\n",
    "    nouter = len(arr)\n",
    "    for n in range(nouter - 1, 0, -1):\n",
    "        for i in range(n):\n",
    "            if arr[i] > arr[i + 1]:\n",
    "                arr[i], arr[i + 1] = arr[i + 1], arr[i]\n",
    "\n",
    "\n",
    "def merge_sort(arr):\n",
    "    if len(arr) > 1:\n",
    "        mid = len(arr) // 2\n",
    "        L = arr[:mid]\n",
    "        R = arr[mid:]\n",
    "\n",
    "        merge_sort(L)\n",
    "        merge_sort(R)\n",
    "\n",
    "        i = j = k = 0\n",
    "        while i < len(L) and j < len(R):\n",
    "            if L[i] < R[j]:\n",
    "                arr[k] = L[i]\n",
    "                i += 1\n",
    "            else:\n",
    "                arr[k] = R[j]\n",
    "                j += 1\n",
    "            k += 1\n",
    "\n",
    "        while i < len(L):\n",
    "            arr[k] = L[i]\n",
    "            i += 1\n",
    "            k += 1\n",
    "\n",
    "        while j < len(R):\n",
    "            arr[k] = R[j]\n",
    "            j += 1\n",
    "            k += 1\n",
    "\n",
    "n_values = list(range(100, 2100, 200))\n",
    "\n",
    "n_bubble = []\n",
    "t_bubble = []\n",
    "\n",
    "n_merge = []\n",
    "t_merger = []\n",
    "\n",
    "for n in n_values:\n",
    "    data = [random.randint(0, 10000) for _ in range(n)]\n",
    "\n",
    "    # Bubble Sort Timing\n",
    "    bubble_data = data[:]\n",
    "    start = time.time()\n",
    "    bubble_sort(bubble_data)\n",
    "    end = time.time()\n",
    "    n_bubble.append(n)\n",
    "    t_bubble.append(end - start)\n",
    "\n",
    "    # Merge Sort Timing\n",
    "    merge_data = data[:]\n",
    "    start = time.time()\n",
    "    merge_sort(merge_data)\n",
    "    end = time.time()\n",
    "    n_merge.append(n)\n",
    "    t_merger.append(end - start)\n",
    "\n",
    "# Plotting\n",
    "plt.figure(figsize=(10, 6))\n",
    "plt.plot(n_bubble, t_bubble, label='Bubble Sort', marker='o', color='red')\n",
    "plt.plot(n_merge, t_merger, label='Merge Sort', marker='s', color='green')\n",
    "plt.xlabel('List Size (n)')\n",
    "plt.ylabel('Time (seconds)')\n",
    "plt.title('Bubble Sort vs Merge Sort Time Complexity')\n",
    "plt.legend()\n",
    "plt.grid(True)\n",
    "plt.tight_layout()\n",
    "plt.show()"
   ]
  },
  {
   "cell_type": "markdown",
   "id": "7f314f3b-60c0-40cc-af1c-b391b8b66b6f",
   "metadata": {},
   "source": [
    "### Question: with the n values why cant I put 50,500,2000?"
   ]
  },
  {
   "cell_type": "code",
   "execution_count": null,
   "id": "90032d32-5b85-4313-9557-d7b6c660d8ab",
   "metadata": {},
   "outputs": [],
   "source": []
  }
 ],
 "metadata": {
  "kernelspec": {
   "display_name": "Python [conda env:base]",
   "language": "python",
   "name": "conda-base-py"
  },
  "language_info": {
   "codemirror_mode": {
    "name": "ipython",
    "version": 3
   },
   "file_extension": ".py",
   "mimetype": "text/x-python",
   "name": "python",
   "nbconvert_exporter": "python",
   "pygments_lexer": "ipython3",
   "version": "3.12.7"
  }
 },
 "nbformat": 4,
 "nbformat_minor": 5
}
