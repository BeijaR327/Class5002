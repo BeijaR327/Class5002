{
 "cells": [
  {
   "cell_type": "markdown",
   "id": "86811b49-d494-4d15-9ee5-a00f0d769d0e",
   "metadata": {},
   "source": [
    "# DSE5002  Module 5  Pair Programming \n",
    "\n",
    "# Beija Richardson 3/20/25\n",
    "\n",
    "# Intro to some Python Ideas"
   ]
  },
  {
   "cell_type": "markdown",
   "id": "670d68b4-4846-4704-84c4-0d4275db66c8",
   "metadata": {},
   "source": [
    "Basic Variables\n",
    "\n",
    "Python is dynamically typed, like R, so Python decides how to store variables when you declare them.\n",
    "\n",
    "Python has floating points,  integers, complex numbers, boolean and strings as the basic type elements\n",
    "\n",
    "It does not have a factor like R does\n",
    "\n",
    "The basic math operations work the same way they do in R"
   ]
  },
  {
   "cell_type": "code",
   "execution_count": 56,
   "id": "df67f18b-2206-4f9d-83c5-d4aeee1f82db",
   "metadata": {},
   "outputs": [
    {
     "name": "stdout",
     "output_type": "stream",
     "text": [
      "7\n"
     ]
    }
   ],
   "source": [
    "a=5\n",
    "b=2\n",
    "print(a+b)"
   ]
  },
  {
   "cell_type": "code",
   "execution_count": 57,
   "id": "13301b8c-485b-4fa7-99da-6633c513cec9",
   "metadata": {},
   "outputs": [
    {
     "data": {
      "text/plain": [
       "int"
      ]
     },
     "execution_count": 57,
     "metadata": {},
     "output_type": "execute_result"
    }
   ],
   "source": [
    "#We can use the type function to see what type of variable on object is\n",
    "type(a)"
   ]
  },
  {
   "cell_type": "code",
   "execution_count": 58,
   "id": "efd09b1d-fa90-4cba-b1a6-1c818cc0fccd",
   "metadata": {},
   "outputs": [
    {
     "data": {
      "text/plain": [
       "float"
      ]
     },
     "execution_count": 58,
     "metadata": {},
     "output_type": "execute_result"
    }
   ],
   "source": [
    "a=5.0\n",
    "type(a)"
   ]
  },
  {
   "cell_type": "markdown",
   "id": "5d7f31b1-480a-4df1-a7f2-8052eab894a7",
   "metadata": {},
   "source": [
    "#Question\n",
    "\n",
    "Why is a an integer in one case and a float in the other?"
   ]
  },
  {
   "cell_type": "code",
   "execution_count": 60,
   "id": "bd949cf2-aa00-4fec-8591-ae23e40b0260",
   "metadata": {},
   "outputs": [
    {
     "data": {
      "text/plain": [
       "str"
      ]
     },
     "execution_count": 60,
     "metadata": {},
     "output_type": "execute_result"
    }
   ],
   "source": [
    "a=\"5\"\n",
    "type(a)"
   ]
  },
  {
   "cell_type": "markdown",
   "id": "d4938829-19e7-4677-a540-6c1a36cc7190",
   "metadata": {},
   "source": [
    "Storage classes in Python,  such as str and more complex types have built in member functions that operate on items in the class\n",
    "\n",
    "\n",
    "The dir() function will show the variables in the class, which have underscores added, and functions which do not"
   ]
  },
  {
   "cell_type": "code",
   "execution_count": 62,
   "id": "ba68c2eb-025e-4bf3-a17a-3ba2f77a207f",
   "metadata": {},
   "outputs": [
    {
     "data": {
      "text/plain": [
       "['__add__',\n",
       " '__class__',\n",
       " '__contains__',\n",
       " '__delattr__',\n",
       " '__dir__',\n",
       " '__doc__',\n",
       " '__eq__',\n",
       " '__format__',\n",
       " '__ge__',\n",
       " '__getattribute__',\n",
       " '__getitem__',\n",
       " '__getnewargs__',\n",
       " '__getstate__',\n",
       " '__gt__',\n",
       " '__hash__',\n",
       " '__init__',\n",
       " '__init_subclass__',\n",
       " '__iter__',\n",
       " '__le__',\n",
       " '__len__',\n",
       " '__lt__',\n",
       " '__mod__',\n",
       " '__mul__',\n",
       " '__ne__',\n",
       " '__new__',\n",
       " '__reduce__',\n",
       " '__reduce_ex__',\n",
       " '__repr__',\n",
       " '__rmod__',\n",
       " '__rmul__',\n",
       " '__setattr__',\n",
       " '__sizeof__',\n",
       " '__str__',\n",
       " '__subclasshook__',\n",
       " 'capitalize',\n",
       " 'casefold',\n",
       " 'center',\n",
       " 'count',\n",
       " 'encode',\n",
       " 'endswith',\n",
       " 'expandtabs',\n",
       " 'find',\n",
       " 'format',\n",
       " 'format_map',\n",
       " 'index',\n",
       " 'isalnum',\n",
       " 'isalpha',\n",
       " 'isascii',\n",
       " 'isdecimal',\n",
       " 'isdigit',\n",
       " 'isidentifier',\n",
       " 'islower',\n",
       " 'isnumeric',\n",
       " 'isprintable',\n",
       " 'isspace',\n",
       " 'istitle',\n",
       " 'isupper',\n",
       " 'join',\n",
       " 'ljust',\n",
       " 'lower',\n",
       " 'lstrip',\n",
       " 'maketrans',\n",
       " 'partition',\n",
       " 'removeprefix',\n",
       " 'removesuffix',\n",
       " 'replace',\n",
       " 'rfind',\n",
       " 'rindex',\n",
       " 'rjust',\n",
       " 'rpartition',\n",
       " 'rsplit',\n",
       " 'rstrip',\n",
       " 'split',\n",
       " 'splitlines',\n",
       " 'startswith',\n",
       " 'strip',\n",
       " 'swapcase',\n",
       " 'title',\n",
       " 'translate',\n",
       " 'upper',\n",
       " 'zfill']"
      ]
     },
     "execution_count": 62,
     "metadata": {},
     "output_type": "execute_result"
    }
   ],
   "source": [
    "dir(a)"
   ]
  },
  {
   "cell_type": "markdown",
   "id": "45589c14-627a-4cf2-a962-767ba3168f89",
   "metadata": {},
   "source": [
    "Looking at a string, there is along list of available functions\n",
    "\n",
    "We'll define a more interesting string and see what some of these functions do.\n",
    "\n",
    "Notice how the member functions are called, as the variable name, a period and then the function name and parenthesis\n",
    "\n",
    "Not all functions in Python are member functions, this is just showing how to call member functions once you find them using\n",
    "dir()"
   ]
  },
  {
   "cell_type": "code",
   "execution_count": 64,
   "id": "a2c42130-984f-404c-9420-572e6e972415",
   "metadata": {},
   "outputs": [
    {
     "name": "stdout",
     "output_type": "stream",
     "text": [
      "JOE CHASED A LEAF,\n",
      "joe chased a leaf,\n",
      "Joe Chased A Leaf,\n"
     ]
    }
   ],
   "source": [
    "a=\"Joe chased a leaf,\"\n",
    "print(a.upper())\n",
    "print(a.lower())\n",
    "print(a.title())"
   ]
  },
  {
   "cell_type": "code",
   "execution_count": 65,
   "id": "a8f989dc-7461-4d78-adc7-40b55b10517b",
   "metadata": {},
   "outputs": [
    {
     "data": {
      "text/plain": [
       "['Joe', 'chased', 'a', 'leaf,']"
      ]
     },
     "execution_count": 65,
     "metadata": {},
     "output_type": "execute_result"
    }
   ],
   "source": [
    "a.split()"
   ]
  },
  {
   "cell_type": "markdown",
   "id": "55bddfc0-a298-4d43-b140-25eb1d8eacfc",
   "metadata": {},
   "source": [
    "The key idea here is that dir() can show you a bunch of useful functions available"
   ]
  },
  {
   "cell_type": "code",
   "execution_count": 67,
   "id": "f4c50b3b-4f7e-4d26-bf4b-4579b1a26df1",
   "metadata": {},
   "outputs": [
    {
     "data": {
      "text/plain": [
       "<method-wrapper '__len__' of str object at 0x000001E291903170>"
      ]
     },
     "execution_count": 67,
     "metadata": {},
     "output_type": "execute_result"
    }
   ],
   "source": [
    "a.__len__"
   ]
  },
  {
   "cell_type": "code",
   "execution_count": 68,
   "id": "b721e37e-37fa-480f-b556-d41161403402",
   "metadata": {},
   "outputs": [
    {
     "name": "stdout",
     "output_type": "stream",
     "text": [
      "Boston_roll\t a\t b\t dataframe_columns\t dataframe_hash\t dtypes_str\t get_dataframes\t getpass\t hashlib\t \n",
      "import_pandas_safely\t infile\t is_data_frame\t json\t np\t pd\t x\t \n"
     ]
    }
   ],
   "source": [
    "#this is an iPython \"magic\" command to see the user defined variables in use at the moment\n",
    "# it is a lift from the Matlab system\n",
    "# \"magic\" commands are utility commands in iPython or Jupyter, not part of python\n",
    "\n",
    "%who"
   ]
  },
  {
   "cell_type": "code",
   "execution_count": 69,
   "id": "60071387-c9be-4819-93a4-c6b62879f9b9",
   "metadata": {},
   "outputs": [
    {
     "name": "stdout",
     "output_type": "stream",
     "text": [
      "Variable               Type         Data/Info\n",
      "---------------------------------------------\n",
      "Boston_roll            DataFrame               _id         PI<...>182242 rows x 66 columns]\n",
      "a                      str          Joe chased a leaf,\n",
      "b                      int          2\n",
      "dataframe_columns      function     <function dataframe_colum<...>ns at 0x000001E28CF982C0>\n",
      "dataframe_hash         function     <function dataframe_hash at 0x000001E28CF98860>\n",
      "dtypes_str             function     <function dtypes_str at 0x000001E28CF98220>\n",
      "get_dataframes         function     <function get_dataframes at 0x000001E28CF98D60>\n",
      "getpass                module       <module 'getpass' from 'C<...>conda3\\\\Lib\\\\getpass.py'>\n",
      "hashlib                module       <module 'hashlib' from 'C<...>conda3\\\\Lib\\\\hashlib.py'>\n",
      "import_pandas_safely   function     <function import_pandas_s<...>ly at 0x000001E28CF99260>\n",
      "infile                 str          C:\\Users\\Luke\\Documents\\C<...>_Assessment_Roll_2024.csv\n",
      "is_data_frame          function     <function is_data_frame at 0x000001E28CF98900>\n",
      "json                   module       <module 'json' from 'C:\\\\<...>\\Lib\\\\json\\\\__init__.py'>\n",
      "np                     module       <module 'numpy' from 'C:\\<...>ges\\\\numpy\\\\__init__.py'>\n",
      "pd                     module       <module 'pandas' from 'C:<...>es\\\\pandas\\\\__init__.py'>\n",
      "x                      matrix       [[1 2 3]\\n [4 5 6]\\n [7 8 9]]\n"
     ]
    }
   ],
   "source": [
    "%whos"
   ]
  },
  {
   "cell_type": "markdown",
   "id": "d579ba53-0c8b-459b-8a92-fda083a2877a",
   "metadata": {},
   "source": [
    "To see more about magic commands, see\n",
    "\n",
    "https://ipython.readthedocs.io/en/stable/interactive/magics.html\n",
    "\n"
   ]
  },
  {
   "cell_type": "markdown",
   "id": "efe0a8cb-e893-4922-91f7-ede0994d79d2",
   "metadata": {},
   "source": [
    "Thee are 4 types of built-in data structures in basic python\n",
    "\n",
    "list, tuple, dictionary and set\n",
    "\n",
    "We'll talk about them next week"
   ]
  },
  {
   "cell_type": "markdown",
   "id": "4e6e7cd4-21e2-49f9-bfb6-fa3341f30385",
   "metadata": {},
   "source": [
    "#Numpy\n",
    "\n",
    "Numpy stands for numerical python,   it has array and vector data types defined within it\n",
    "\n",
    "To create matrices and do matric operations in Python,  people typically use Numpy\n",
    "\n",
    "Many other structures and common python packages are built on top of numpy classes\n",
    "\n",
    "To use Numpy, we have to import the package.   Note that the package must already be installed in your environment\n",
    "\n",
    "np is the classic appreciation or alias for numpy"
   ]
  },
  {
   "cell_type": "code",
   "execution_count": 73,
   "id": "03bbf069-f343-4c1c-b322-8026fc01ce5f",
   "metadata": {},
   "outputs": [],
   "source": [
    "import numpy as np"
   ]
  },
  {
   "cell_type": "markdown",
   "id": "64a344d7-5b0b-467b-97bb-5d210dfe0c10",
   "metadata": {},
   "source": [
    "Numpy matrices \n",
    "\n",
    "-must all have the same type of element\n",
    "\n",
    "- are indexed by the row and column number\n",
    "\n",
    "-but like most other language, the first row is 0, and the first column is also 0\n",
    "    with R indices start with 1,  in python they start with 0\n",
    "    \n",
    "-think of the indices in python as the distance from the start of an array or matrix"
   ]
  },
  {
   "cell_type": "code",
   "execution_count": 75,
   "id": "0ad415b4-97c8-41ac-abd6-cfc70d96b541",
   "metadata": {},
   "outputs": [
    {
     "data": {
      "text/plain": [
       "matrix([[1, 2, 3],\n",
       "        [4, 5, 6],\n",
       "        [7, 8, 9]])"
      ]
     },
     "execution_count": 75,
     "metadata": {},
     "output_type": "execute_result"
    }
   ],
   "source": [
    "x=np.matrix('1 2 3; 4 5 6; 7 8 9')\n",
    "x"
   ]
  },
  {
   "cell_type": "code",
   "execution_count": 76,
   "id": "b7f00381-ea6a-4696-acc0-e0f12da806e2",
   "metadata": {},
   "outputs": [
    {
     "data": {
      "text/plain": [
       "4"
      ]
     },
     "execution_count": 76,
     "metadata": {},
     "output_type": "execute_result"
    }
   ],
   "source": [
    "x[1,0]"
   ]
  },
  {
   "cell_type": "code",
   "execution_count": 77,
   "id": "15243d08-2214-4a1e-9f0d-8274a19089c5",
   "metadata": {},
   "outputs": [
    {
     "ename": "SyntaxError",
     "evalue": "invalid syntax (803856855.py, line 3)",
     "output_type": "error",
     "traceback": [
      "\u001b[1;36m  Cell \u001b[1;32mIn[77], line 3\u001b[1;36m\u001b[0m\n\u001b[1;33m    What is the index of the \"8\" in this matrix?\u001b[0m\n\u001b[1;37m                ^\u001b[0m\n\u001b[1;31mSyntaxError\u001b[0m\u001b[1;31m:\u001b[0m invalid syntax\n"
     ]
    }
   ],
   "source": [
    "Action/Question\n",
    "\n",
    "What is the index of the \"8\" in this matrix? \n",
    "\n",
    "Test your answere"
   ]
  },
  {
   "cell_type": "markdown",
   "id": "9d4e889d-c6cc-455b-9fc0-0fcbf6dc6332",
   "metadata": {},
   "source": [
    "# import numpy as np\n",
    "# x=np.matrix('1 2 3; 4 5 6; 7 8 9')\n",
    "# x\n",
    "# x[2,1]\n",
    "# = 8"
   ]
  },
  {
   "cell_type": "code",
   "execution_count": null,
   "id": "c75252b5-eb38-4864-a9a7-0e8a47d1f536",
   "metadata": {},
   "outputs": [],
   "source": [
    "type(x)"
   ]
  },
  {
   "cell_type": "code",
   "execution_count": null,
   "id": "21d43cd8-ea81-4c2d-800d-41757bfb62ca",
   "metadata": {},
   "outputs": [],
   "source": [
    "# dtype is an attribute of a numpy array that indicates the type of elements in the matrix\n",
    "\n",
    "x.dtype"
   ]
  },
  {
   "cell_type": "code",
   "execution_count": null,
   "id": "d54bb84d-be85-447d-b934-2435c25615fb",
   "metadata": {},
   "outputs": [],
   "source": [
    "x.size"
   ]
  },
  {
   "cell_type": "code",
   "execution_count": null,
   "id": "682036ce-309c-4a14-bc64-579a8da1447f",
   "metadata": {},
   "outputs": [],
   "source": [
    "x.shape"
   ]
  },
  {
   "cell_type": "code",
   "execution_count": null,
   "id": "5a48aec8-c42a-491a-a499-ad5a1c61c613",
   "metadata": {},
   "outputs": [],
   "source": [
    "dir(x)"
   ]
  },
  {
   "cell_type": "markdown",
   "id": "2c0ce392-b26e-4114-9033-54d2a9f78b39",
   "metadata": {},
   "source": [
    "Action\n",
    "\n",
    "Add a cell and try some different operations from the member functions,  see what they do"
   ]
  },
  {
   "cell_type": "markdown",
   "id": "69df70ad-9876-453c-9a63-bff8318b2efc",
   "metadata": {},
   "source": [
    "Specialized Matrices"
   ]
  },
  {
   "cell_type": "code",
   "execution_count": null,
   "id": "8608014d-aabd-452a-b9be-1e2fcbe8cfb6",
   "metadata": {},
   "outputs": [],
   "source": [
    "x=np.identity(6)\n",
    "x"
   ]
  },
  {
   "cell_type": "code",
   "execution_count": null,
   "id": "e268a7c4-9cd6-45e4-92c6-24ab7ffe08de",
   "metadata": {},
   "outputs": [],
   "source": [
    "x=np.ones((4,5))\n",
    "x"
   ]
  },
  {
   "cell_type": "code",
   "execution_count": null,
   "id": "2ca40bd7-621c-47a2-9a37-1e962b25ce8a",
   "metadata": {},
   "outputs": [],
   "source": [
    "x=np.zeros((3,6))\n",
    "x"
   ]
  },
  {
   "cell_type": "markdown",
   "id": "ce78bfff-6ea3-44ab-93c4-dc4461b48713",
   "metadata": {},
   "source": [
    "To learn more about using Numpy to do linear algebra see:\n",
    "\n",
    "https://numpy.org/doc/stable/user/absolute_beginners.html\n",
    "\n",
    "Another option is\n",
    "\n",
    "https://www.kaggle.com/code/legendadnan/numpy-tutorial-for-beginners-data-science"
   ]
  },
  {
   "cell_type": "markdown",
   "id": "d0cdaed8-e0ea-41a3-bc9a-0d3c79146c48",
   "metadata": {},
   "source": [
    "#Pandas\n",
    "\n",
    "Pandas is a libary that implies a data frame,  much like the dataframes in R, or a data table in SQL\n",
    "\n",
    "Each row is an observation,   each column is a variable.\n",
    "\n",
    "The columns are actually 1 dimensional numpy arrays (ie n x 1 matrics, for n rows)\n",
    "\n",
    "There are an immense number of member functions to let us carry out operations on Pandas dataframes\n",
    "\n",
    "Slicing, sorting and selecting work much like they do in R\n",
    "\n",
    "We typically import pandas as pd"
   ]
  },
  {
   "cell_type": "code",
   "execution_count": null,
   "id": "f5010e17-d3c3-44c9-a872-f2c4eb94644c",
   "metadata": {},
   "outputs": [],
   "source": [
    "import pandas as pd"
   ]
  },
  {
   "cell_type": "markdown",
   "id": "b481f2f6-5ec6-4685-9ec4-415a985ebc49",
   "metadata": {},
   "source": [
    "# edit this line so it contains the full path name for the Boston Asssessment_Roll_2024.cvs\n",
    "\n",
    "\n",
    "# infile=\"C:\\\\Users\\\\Luke\\\\Documents\\\\Class5002\\\\Week1\\\\Chapter1\\\\Boston_Assessment_Roll_2024.csv\""
   ]
  },
  {
   "cell_type": "code",
   "execution_count": null,
   "id": "1f73a219-6419-4855-bc94-dc4729735996",
   "metadata": {},
   "outputs": [],
   "source": [
    "#import the file,  place it into a Pandas dataframe\n",
    "\n",
    "Boston_roll=pd.read_csv(infile)"
   ]
  },
  {
   "cell_type": "code",
   "execution_count": null,
   "id": "d1be009f-c6a3-4e98-930a-95663085032a",
   "metadata": {},
   "outputs": [],
   "source": [
    "# We have a head function, just as in R\n",
    "\n",
    "Boston_roll.head(5)"
   ]
  },
  {
   "cell_type": "code",
   "execution_count": null,
   "id": "04c77077-1945-4f7e-b502-fbdeb9fee55c",
   "metadata": {},
   "outputs": [],
   "source": [
    "#We can access columns by name, rowns by number\n",
    "# Notice that 0:5 gives us all values from 0 to 4,  5 is not included\n",
    "\n",
    "Boston_roll[\"CITY\"][0:5]\n"
   ]
  },
  {
   "cell_type": "code",
   "execution_count": null,
   "id": "f5bd9fce-f608-451f-b718-60789e051773",
   "metadata": {},
   "outputs": [],
   "source": [
    "# we can index using two numbers, note the need to use the .iloc notation to do this\n",
    "\n",
    "Boston_roll.iloc[5:10,7]"
   ]
  },
  {
   "cell_type": "code",
   "execution_count": null,
   "id": "a922eb5b-39b7-4661-a410-46003952a836",
   "metadata": {},
   "outputs": [],
   "source": [
    "#let's look at the member functions\n",
    "\n",
    "dir(Boston_roll)"
   ]
  },
  {
   "cell_type": "markdown",
   "id": "db44cdad-e1c0-4dce-9164-eca152526625",
   "metadata": {},
   "source": [
    "Just a few options, eh?\n",
    "\n",
    "Pandas can do a lot of different things....\n",
    "\n",
    "We will see a lot more of Pandas later\n",
    "\n",
    "If you want to work ahead a bit\n",
    "\n",
    "https://www.kaggle.com/learn/pandas\n",
    "\n",
    "https://pandas.pydata.org/docs/getting_started/tutorials.html\n"
   ]
  }
 ],
 "metadata": {
  "kernelspec": {
   "display_name": "Python [conda env:base]",
   "language": "python",
   "name": "conda-base-py"
  },
  "language_info": {
   "codemirror_mode": {
    "name": "ipython",
    "version": 3
   },
   "file_extension": ".py",
   "mimetype": "text/x-python",
   "name": "python",
   "nbconvert_exporter": "python",
   "pygments_lexer": "ipython3",
   "version": "3.12.7"
  }
 },
 "nbformat": 4,
 "nbformat_minor": 5
}
