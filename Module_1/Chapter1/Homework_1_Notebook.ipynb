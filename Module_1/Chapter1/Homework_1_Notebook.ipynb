{
 "cells": [
  {
   "cell_type": "markdown",
   "id": "13a102f3-b40f-464c-85e9-da1a56adf367",
   "metadata": {},
   "source": [
    "# DSE5002 Homework/Lab 01\n",
    "# Beija Richardson 3/21/25\n",
    "\n",
    "These problems are all in the textbook,  I just cut and pasted the questions into this Python Notebook\n",
    "\n",
    "In future homeworks, you will have to constuct the notebook yourself,   I'm trying to go easy on you this week.\n",
    "\n",
    "Exercises from \n",
    "\n",
    "https://allendowney.github.io/ThinkPython/chap01.html\n",
    "\n",
    "and \n",
    "\n",
    "https://allendowney.github.io/ThinkPython/chap02.html"
   ]
  },
  {
   "cell_type": "markdown",
   "id": "cd88b88d-261d-44f1-95bf-9c35c1acc9af",
   "metadata": {},
   "source": [
    "Run these examples in an AI LLM model (chatbot, Claude, etc, take your pick)   \n",
    "Briefly comment in the cell below on how well this worked- only a few sentences are needed.\n",
    "\n",
    "1.9.1. Ask a virtual assistant\n",
    "\n",
    "As you work through this book, there are several ways you can use a virtual assistant or chatbot to help you learn.\n",
    "\n",
    "If you want to learn more about a topic in the chapter, or anything is unclear, you can ask for an explanation.\n",
    "\n",
    "If you are having a hard time with any of the exercises, you can ask for help.\n",
    "\n",
    "In each chapter, I’ll suggest exercises you can do with a virtual assistant, but I encourage you to try things on your own and see what works for you.\n",
    "\n",
    "Here are some topics you could ask a virtual assistant about:\n",
    "\n",
    "Earlier I mentioned bitwise operators but I didn’t explain why the value of 7 ^ 2 is 5. Try asking “What are the bitwise operators in Python?” or “What is the value of 7 XOR 2?”\n",
    "\n",
    "I also mentioned the order of operations. For more details, ask “What is the order of operations in Python?”\n",
    "\n",
    "The round function, which we used to round a floating-point number to the nearest integer, can take a second argument. Try asking “What are the arguments of the round function?” or “How do I round pi off to three decimal places?”\n",
    "\n",
    "There’s one more arithmetic operator I didn’t mention; try asking “What is the modulus operator in Python?”\n",
    "\n",
    "Most virtual assistants know about Python, so they answer questions like this pretty reliably. But remember that these tools make mistakes. If you get code from a chatbot, test it!"
   ]
  },
  {
   "cell_type": "markdown",
   "id": "ec991372-539f-46e4-a78a-02e168c0dca3",
   "metadata": {},
   "source": [
    "## I asked \"What are the bitwise operators in Python?\" it stated \"&, |, ^, ~, <<, >>\"\n",
    "## I asked \"What is the order of operations in Python?\" it listed the specific order starting with 1. Parentheses, Brackets, Braces 2. Exponeation ** 3. Unary operators +x, -x, ~x and so forth.\n",
    "## I asked \"What are the arguments of the round function?\" it stated the round function in Python takes two arguments ; number and ndigits.\n",
    "## I asked \" What is the modulus operator in Python?\" it states \" The modulus operator in Python is the percent sigh %. It returns the remainder of dividing the left operand by the right operand.\""
   ]
  },
  {
   "cell_type": "markdown",
   "id": "f53d08a5-543d-4186-92fa-f41bd73c6e8f",
   "metadata": {},
   "source": [
    "\n",
    "\n",
    "\n",
    "\n",
    "\n"
   ]
  },
  {
   "cell_type": "markdown",
   "id": "1d85b96d-bc5b-471f-b418-484c8ed8ef9e",
   "metadata": {},
   "source": [
    "1.9.3. Exercise\n",
    "\r\n",
    "When you learn about a new feature, you should try it out and make mistakes on purpose. That way, you learn the error messages, and when you see them again, you will know what they mean. It is better to make mistakes now and deliberately than later and accidentally.\r\n",
    "\r\n",
    "You can use a minus sign to make a negative number like -2. What happens if you put a plus sign before a number? What about 2++2?\r\n",
    "\r\n",
    "What happens if you have two values with no operator between them, like 4 2?\r\n",
    "\r\n",
    "If you call a function like round(42.5), what happens if you leave out one or both paren\n",
    "\n",
    "{Write the code that checks all of these }theses?"
   ]
  },
  {
   "cell_type": "code",
   "execution_count": 3,
   "id": "3a195b0e-d97f-4b7f-8e10-448e8dde4482",
   "metadata": {},
   "outputs": [],
   "source": [
    "# Enter your code here"
   ]
  },
  {
   "cell_type": "code",
   "execution_count": 5,
   "id": "43c7bcd1-3b0f-452e-bef4-f84e9097d465",
   "metadata": {},
   "outputs": [
    {
     "data": {
      "text/plain": [
       "4"
      ]
     },
     "execution_count": 5,
     "metadata": {},
     "output_type": "execute_result"
    }
   ],
   "source": [
    "2++2"
   ]
  },
  {
   "cell_type": "code",
   "execution_count": 7,
   "id": "9294caec-07df-48d6-99dc-ab53ceb54d65",
   "metadata": {},
   "outputs": [
    {
     "ename": "SyntaxError",
     "evalue": "invalid syntax (436257307.py, line 1)",
     "output_type": "error",
     "traceback": [
      "\u001b[1;36m  Cell \u001b[1;32mIn[7], line 1\u001b[1;36m\u001b[0m\n\u001b[1;33m    4 2\u001b[0m\n\u001b[1;37m      ^\u001b[0m\n\u001b[1;31mSyntaxError\u001b[0m\u001b[1;31m:\u001b[0m invalid syntax\n"
     ]
    }
   ],
   "source": [
    "4 2"
   ]
  },
  {
   "cell_type": "code",
   "execution_count": 9,
   "id": "73b22d0d-7a2e-4b44-a023-4be5a0d6d396",
   "metadata": {},
   "outputs": [
    {
     "ename": "SyntaxError",
     "evalue": "incomplete input (832313581.py, line 1)",
     "output_type": "error",
     "traceback": [
      "\u001b[1;36m  Cell \u001b[1;32mIn[9], line 1\u001b[1;36m\u001b[0m\n\u001b[1;33m    (42.5\u001b[0m\n\u001b[1;37m         ^\u001b[0m\n\u001b[1;31mSyntaxError\u001b[0m\u001b[1;31m:\u001b[0m incomplete input\n"
     ]
    }
   ],
   "source": [
    "(42.5"
   ]
  },
  {
   "cell_type": "code",
   "execution_count": null,
   "id": "6eeb6848-2db0-45ec-bb4e-8a7364780e3b",
   "metadata": {},
   "outputs": [],
   "source": [
    "1.9.4. Exercise\n",
    "Recall that every expression has a value, every value has a type, and we can use the type function to find the type of any value.\n",
    "\n",
    "What is the type of the value of the following expressions? Make your best guess for each one, and then use type to find out.\n",
    "\n",
    "765\n",
    "\n",
    "2.718\n",
    "\n",
    "'2 pi'\n",
    "\n",
    "abs(-7)\n",
    "\n",
    "abs(-7.0)\n",
    "\n",
    "abs\n",
    "\n",
    "int\n",
    "\n",
    "type\n",
    "\n",
    "{write the code below to check these}"
   ]
  },
  {
   "cell_type": "code",
   "execution_count": 17,
   "id": "998f2500-5bba-4b03-b18c-5b2d28878197",
   "metadata": {},
   "outputs": [
    {
     "data": {
      "text/plain": [
       "int"
      ]
     },
     "execution_count": 17,
     "metadata": {},
     "output_type": "execute_result"
    }
   ],
   "source": [
    "type(765)"
   ]
  },
  {
   "cell_type": "code",
   "execution_count": 19,
   "id": "818b3d0a-0524-4381-9778-d7625df622f9",
   "metadata": {},
   "outputs": [
    {
     "data": {
      "text/plain": [
       "float"
      ]
     },
     "execution_count": 19,
     "metadata": {},
     "output_type": "execute_result"
    }
   ],
   "source": [
    "type(2.718)"
   ]
  },
  {
   "cell_type": "code",
   "execution_count": 21,
   "id": "d4407a3a-1c26-4409-b1fc-3de35b41a61c",
   "metadata": {},
   "outputs": [
    {
     "data": {
      "text/plain": [
       "str"
      ]
     },
     "execution_count": 21,
     "metadata": {},
     "output_type": "execute_result"
    }
   ],
   "source": [
    "type(' 2 pi')"
   ]
  },
  {
   "cell_type": "code",
   "execution_count": 23,
   "id": "2cfe2e0e-b6e5-414c-bee3-92a6f5310255",
   "metadata": {},
   "outputs": [
    {
     "data": {
      "text/plain": [
       "int"
      ]
     },
     "execution_count": 23,
     "metadata": {},
     "output_type": "execute_result"
    }
   ],
   "source": [
    "type(abs(-7))"
   ]
  },
  {
   "cell_type": "code",
   "execution_count": 25,
   "id": "077f23d8-afbb-4b5f-81ec-845db0e42d44",
   "metadata": {},
   "outputs": [
    {
     "data": {
      "text/plain": [
       "builtin_function_or_method"
      ]
     },
     "execution_count": 25,
     "metadata": {},
     "output_type": "execute_result"
    }
   ],
   "source": [
    "type(abs)"
   ]
  },
  {
   "cell_type": "code",
   "execution_count": 27,
   "id": "c155cd41-d57c-4c7c-8eda-b4e7d2d641cd",
   "metadata": {},
   "outputs": [
    {
     "data": {
      "text/plain": [
       "type"
      ]
     },
     "execution_count": 27,
     "metadata": {},
     "output_type": "execute_result"
    }
   ],
   "source": [
    "type(int)"
   ]
  },
  {
   "cell_type": "code",
   "execution_count": 29,
   "id": "22a0d4f8-eefd-4d0d-a6c5-5130fd688ced",
   "metadata": {},
   "outputs": [
    {
     "data": {
      "text/plain": [
       "type"
      ]
     },
     "execution_count": 29,
     "metadata": {},
     "output_type": "execute_result"
    }
   ],
   "source": [
    "type(type)"
   ]
  },
  {
   "cell_type": "markdown",
   "id": "4054eeb3-7637-4a1a-9407-0bdd33732353",
   "metadata": {},
   "source": [
    "1.9.5. Exercise\r\n",
    "The following questions give you a chance to practice writing arithmetic expressions.\r\n",
    "\r\n",
    "How many seconds are there in 42 minutes 42 seconds?\r\n",
    "\r\n",
    "How many miles are there in 10 kilometers? Hint: there are 1.61 kilometers in a mile.\r\n",
    "\r\n",
    "If you run a 10 kilometer race in 42 minutes 42 seconds, what is your average pace in seconds per mile?\r\n",
    "\r\n",
    "What is your average pace in minutes and seconds per mile?\r\n",
    "\r\n",
    "What is your average speed in mile\n",
    "\n",
    "{Write your code below}s per hour?"
   ]
  },
  {
   "cell_type": "code",
   "execution_count": 31,
   "id": "eee0208e-7377-4fd0-aee1-abb33657feda",
   "metadata": {},
   "outputs": [
    {
     "data": {
      "text/plain": [
       "2562"
      ]
     },
     "execution_count": 31,
     "metadata": {},
     "output_type": "execute_result"
    }
   ],
   "source": [
    "(42*60) + 42"
   ]
  },
  {
   "cell_type": "code",
   "execution_count": 33,
   "id": "5f9cbb44-e69e-4c30-ac4c-9d524b8bb649",
   "metadata": {},
   "outputs": [
    {
     "data": {
      "text/plain": [
       "6.21371"
      ]
     },
     "execution_count": 33,
     "metadata": {},
     "output_type": "execute_result"
    }
   ],
   "source": [
    "10*0.621371"
   ]
  },
  {
   "cell_type": "code",
   "execution_count": 43,
   "id": "99cd7ac4-fd25-409a-9b32-2e599a4a08b1",
   "metadata": {},
   "outputs": [
    {
     "data": {
      "text/plain": [
       "412.31406036007473"
      ]
     },
     "execution_count": 43,
     "metadata": {},
     "output_type": "execute_result"
    }
   ],
   "source": [
    "2562/(10*0.621371)"
   ]
  },
  {
   "cell_type": "markdown",
   "id": "2ecf2d0b-69d0-4639-b29c-8ac0bca5f124",
   "metadata": {},
   "source": [
    "6 minutes and 52 seconds per miles"
   ]
  },
  {
   "cell_type": "code",
   "execution_count": 45,
   "id": "356b8c58-031b-438e-9eb6-f60fc89d6a13",
   "metadata": {},
   "outputs": [
    {
     "data": {
      "text/plain": [
       "8.730799494168892"
      ]
     },
     "execution_count": 45,
     "metadata": {},
     "output_type": "execute_result"
    }
   ],
   "source": [
    "6.21371/0.7117"
   ]
  },
  {
   "cell_type": "markdown",
   "id": "b797dbc8-58b1-4cc9-9ef2-132d515d931e",
   "metadata": {},
   "source": [
    "2.11.2. Exercise\r\n",
    "Repeating my advice from the previous chapter, whenever you learn a new feature, you should make errors on purpose to see what goes wrong.\r\n",
    "\r\n",
    "We’ve seen that n = 17 is legal. What about 17 = n?\r\n",
    "\r\n",
    "How about x = y = 1?\r\n",
    "\r\n",
    "In some languages every statement ends with a semi-colon (;). What happens if you put a semi-colon at the end of a Python statement?\r\n",
    "\r\n",
    "What if you put a period at the end of a statement?\r\n",
    "\r\n",
    "What happens if you spell the name of a module wrong and try to import maath?"
   ]
  },
  {
   "cell_type": "code",
   "execution_count": 47,
   "id": "1c861d89-d4fb-46f2-878e-7798c43937c2",
   "metadata": {},
   "outputs": [
    {
     "ename": "SyntaxError",
     "evalue": "cannot assign to literal here. Maybe you meant '==' instead of '='? (2028236647.py, line 1)",
     "output_type": "error",
     "traceback": [
      "\u001b[1;36m  Cell \u001b[1;32mIn[47], line 1\u001b[1;36m\u001b[0m\n\u001b[1;33m    17=n\u001b[0m\n\u001b[1;37m    ^\u001b[0m\n\u001b[1;31mSyntaxError\u001b[0m\u001b[1;31m:\u001b[0m cannot assign to literal here. Maybe you meant '==' instead of '='?\n"
     ]
    }
   ],
   "source": [
    "17=n"
   ]
  },
  {
   "cell_type": "code",
   "execution_count": 49,
   "id": "f1214032-8740-4c58-b4a3-01af4d15bf96",
   "metadata": {},
   "outputs": [],
   "source": [
    "x=y=1"
   ]
  },
  {
   "cell_type": "code",
   "execution_count": 51,
   "id": "3cdee5b3-93a1-4631-968b-ad938739506c",
   "metadata": {},
   "outputs": [],
   "source": [
    "17;"
   ]
  },
  {
   "cell_type": "code",
   "execution_count": 53,
   "id": "c028855d-5876-4914-8e4a-4fe093cab572",
   "metadata": {},
   "outputs": [
    {
     "data": {
      "text/plain": [
       "18.0"
      ]
     },
     "execution_count": 53,
     "metadata": {},
     "output_type": "execute_result"
    }
   ],
   "source": [
    "18."
   ]
  },
  {
   "cell_type": "code",
   "execution_count": 55,
   "id": "01f474a2-9163-47f7-952f-ca1f52cf80ef",
   "metadata": {},
   "outputs": [
    {
     "ename": "ModuleNotFoundError",
     "evalue": "No module named 'maath'",
     "output_type": "error",
     "traceback": [
      "\u001b[1;31m---------------------------------------------------------------------------\u001b[0m",
      "\u001b[1;31mModuleNotFoundError\u001b[0m                       Traceback (most recent call last)",
      "Cell \u001b[1;32mIn[55], line 1\u001b[0m\n\u001b[1;32m----> 1\u001b[0m \u001b[38;5;28;01mimport\u001b[39;00m \u001b[38;5;21;01mmaath\u001b[39;00m\n",
      "\u001b[1;31mModuleNotFoundError\u001b[0m: No module named 'maath'"
     ]
    }
   ],
   "source": [
    "import maath"
   ]
  },
  {
   "cell_type": "markdown",
   "id": "cc0f443e-d6ff-4983-865e-65c37fbb7f64",
   "metadata": {},
   "source": [
    "2.11.3. Exercise\r\n",
    "Practice using the Python interpreter as a calculator:\r\n",
    "\r\n",
    "Part 1. The volume of a sphere with radius \r\n",
    " is \r\n",
    " \r\n",
    ". What is the volume of a sphere with radius 5? Start with a variable named radius and then assign the result to a variable named volume. Display the result. Add comments to indicate that radius is in centimeters and volume in cubic centimeters.\r\n",
    "\r\n",
    "Part 2. A rule of trigonometry says that for any value of \r\n",
    ", \r\n",
    ". Let’s see if it’s true for a specific value of \r\n",
    " like 42.\r\n",
    "\r\n",
    "Create a variable named x with this value. Then use math.cos and math.sin to compute the sine and cosine of \r\n",
    ", and the sum of their squared.\r\n",
    "\r\n",
    "The result should be close to 1. It might not be exactly 1 because floating-point arithmetic is not exact—it is only approximately correct.\r\n",
    "\r\n",
    "Part 3. In addition to pi, the other variable defined in the math module is e, which represents the base of the natural logarithm, written in math notation as \r\n",
    ". If you are not familiar with this value, ask a virtual assistant “What is math.e?” Now let’s compute \r\n",
    " three ways:\r\n",
    "\r\n",
    "Use math.e and the exponentiation operator (**).\r\n",
    "\r\n",
    "Use math.pow to raise math.e to the power 2.\r\n",
    "\r\n",
    "Use math.exp, which takes as an argument a value, \r\n",
    ", and computes \r\n",
    ".\r\n",
    "\r\n",
    "You might notice that the last result is slightly different from the other two. See if you can find out which is correct."
   ]
  },
  {
   "cell_type": "markdown",
   "id": "46c3b5ab-db83-4424-aba4-0aac0b34dba8",
   "metadata": {},
   "source": [
    "# V=(4/3)(3.1415926)(5)^3"
   ]
  },
  {
   "cell_type": "code",
   "execution_count": 71,
   "id": "c625bae9-071b-4fe7-8ea0-24a5afd22719",
   "metadata": {},
   "outputs": [],
   "source": [
    "x=42"
   ]
  },
  {
   "cell_type": "code",
   "execution_count": 104,
   "id": "ee4ff9f8-4de4-48a1-b422-0f4cbb9f4f88",
   "metadata": {},
   "outputs": [],
   "source": [
    "import numpy as np"
   ]
  },
  {
   "cell_type": "code",
   "execution_count": 108,
   "id": "a73bb516-5f1e-4a71-831e-4561285c775d",
   "metadata": {},
   "outputs": [
    {
     "data": {
      "text/plain": [
       "np.float64(-0.39998531498835127)"
      ]
     },
     "execution_count": 108,
     "metadata": {},
     "output_type": "execute_result"
    }
   ],
   "source": [
    "np.cos(x)"
   ]
  },
  {
   "cell_type": "code",
   "execution_count": 110,
   "id": "a37fdf42-b69c-4b45-b046-a5c6cb13262c",
   "metadata": {},
   "outputs": [
    {
     "data": {
      "text/plain": [
       "np.float64(-0.9165215479156338)"
      ]
     },
     "execution_count": 110,
     "metadata": {},
     "output_type": "execute_result"
    }
   ],
   "source": [
    "np.sin(x)"
   ]
  },
  {
   "cell_type": "code",
   "execution_count": 114,
   "id": "582de391-f45d-4a74-9537-254ae8a946c6",
   "metadata": {},
   "outputs": [],
   "source": [
    "import math"
   ]
  },
  {
   "cell_type": "code",
   "execution_count": 122,
   "id": "bb189885-1fe9-4dc5-9334-784bb9cf09e2",
   "metadata": {},
   "outputs": [
    {
     "name": "stdout",
     "output_type": "stream",
     "text": [
      "2.718281828459045\n"
     ]
    }
   ],
   "source": [
    "print(math.e) "
   ]
  },
  {
   "cell_type": "code",
   "execution_count": 128,
   "id": "5e55d5f7-4553-420a-b481-dd5755c562f3",
   "metadata": {},
   "outputs": [
    {
     "data": {
      "text/plain": [
       "7.3890560989306495"
      ]
     },
     "execution_count": 128,
     "metadata": {},
     "output_type": "execute_result"
    }
   ],
   "source": [
    "math.pow(math.e,2)"
   ]
  },
  {
   "cell_type": "code",
   "execution_count": 138,
   "id": "8aad3a9d-f94d-4928-9aae-33c4609a1c42",
   "metadata": {},
   "outputs": [
    {
     "data": {
      "text/plain": [
       "<function math.exp(x, /)>"
      ]
     },
     "execution_count": 138,
     "metadata": {},
     "output_type": "execute_result"
    }
   ],
   "source": [
    "math.exp"
   ]
  },
  {
   "cell_type": "code",
   "execution_count": null,
   "id": "f013d7ef-5cc7-4756-97a0-e2c88ca510ff",
   "metadata": {},
   "outputs": [],
   "source": []
  }
 ],
 "metadata": {
  "kernelspec": {
   "display_name": "Python [conda env:Class5002] *",
   "language": "python",
   "name": "conda-env-Class5002-py"
  },
  "language_info": {
   "codemirror_mode": {
    "name": "ipython",
    "version": 3
   },
   "file_extension": ".py",
   "mimetype": "text/x-python",
   "name": "python",
   "nbconvert_exporter": "python",
   "pygments_lexer": "ipython3",
   "version": "3.12.9"
  }
 },
 "nbformat": 4,
 "nbformat_minor": 5
}
